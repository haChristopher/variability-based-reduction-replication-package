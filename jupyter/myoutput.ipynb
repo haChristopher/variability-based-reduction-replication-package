{
 "cells": [
  {
   "cell_type": "code",
   "execution_count": null,
   "id": "22e74082",
   "metadata": {},
   "outputs": [],
   "source": [
    "# @@ Cell 1\n",
    "# Plot all graphs in the same layout\n",
    "# plt.figure(figsize=(20, 100), dpi=80)\n",
    "for dotFile in dotFiles:\n",
    "    graph = read_dot(dotFile)\n",
    "    graph = convertWeigthsToFloat(graph)\n",
    "    pos = graphviz_layout(graph, prog='dot')\n",
    "    nx.draw(graph, pos, with_labels=False, arrows=True)\n",
    "    plt.show()"
   ]
  },
  {
   "cell_type": "code",
   "execution_count": null,
   "id": "de99ee80",
   "metadata": {},
   "outputs": [],
   "source": [
    "# @@ Cell 2\n",
    "import os\n",
    "import glob"
   ]
  },
  {
   "cell_type": "code",
   "execution_count": null,
   "id": "db489f61",
   "metadata": {},
   "outputs": [],
   "source": [
    "import matplotlib.pyplot as plt\n",
    "import networkx as nx\n",
    "from networkx.drawing.nx_agraph import read_dot, write_dot, graphviz_layout"
   ]
  },
  {
   "cell_type": "code",
   "execution_count": null,
   "id": "914c8b10",
   "metadata": {},
   "outputs": [],
   "source": [
    "# @@ Cell 3\n",
    "path = \"/Users/christopher/Uni/MasterThesis/resultsvm\""
   ]
  },
  {
   "cell_type": "code",
   "execution_count": null,
   "id": "481ef0d7",
   "metadata": {},
   "outputs": [],
   "source": [
    "# @@ Cell 4\n",
    "files = glob.glob(path + \"/cpu/*\")"
   ]
  },
  {
   "cell_type": "code",
   "execution_count": null,
   "id": "4c501347",
   "metadata": {},
   "outputs": [],
   "source": [
    "# @@ Cell 5\n",
    "# Convert files to dot files for further analysis\n",
    "for file in files:\n",
    "    name = file.split(\".\")[0]\n",
    "    command = f\"go tool pprof -nodecount=3000 --nodefraction=0.0 --edgefraction=0.0 -dot {name}.out > {name}.dot\"\n",
    "    stream = os.popen(command)\n",
    "    output = stream.read()"
   ]
  },
  {
   "cell_type": "code",
   "execution_count": null,
   "id": "1567d9c2",
   "metadata": {},
   "outputs": [],
   "source": [
    "# @@ Cell 6\n",
    "dotFiles = glob.glob(path + \"/cpu/*.dot\")"
   ]
  },
  {
   "cell_type": "code",
   "execution_count": null,
   "id": "3c2d033e",
   "metadata": {},
   "outputs": [],
   "source": [
    "# @@ Cell 7\n",
    "# Plot all graphs in the same layout\n",
    "# plt.figure(figsize=(20, 100), dpi=80)\n",
    "for dotFile in dotFiles:\n",
    "    graph = read_dot(dotFile)\n",
    "    graph = convertWeigthsToFloat(graph)\n",
    "    pos = graphviz_layout(graph, prog='dot')\n",
    "    nx.draw(graph, pos, with_labels=False, arrows=True)\n",
    "    plt.show()"
   ]
  },
  {
   "cell_type": "code",
   "execution_count": null,
   "id": "d6964c27",
   "metadata": {
    "lines_to_next_cell": 1
   },
   "outputs": [],
   "source": [
    "# @@ Cell 8\n",
    "\"\"\"\n",
    "    Convert weights from string to float.\n",
    "    If not done this will cause errors in the further process\n",
    "\"\"\"\n",
    "def convertWeigthsToFloat(graph):\n",
    "    for u,v,d in graph.edges(data=True):\n",
    "        if \"weight\" in d:\n",
    "            d['weight'] = float(d['weight'])\n",
    "    return graph"
   ]
  },
  {
   "cell_type": "code",
   "execution_count": null,
   "id": "08add76a",
   "metadata": {},
   "outputs": [],
   "source": [
    "# @@ Cell 9\n",
    "# Plot all graphs in the same layout\n",
    "# plt.figure(figsize=(20, 100), dpi=80)\n",
    "for dotFile in dotFiles:\n",
    "    graph = read_dot(dotFile)\n",
    "    graph = convertWeigthsToFloat(graph)\n",
    "    pos = graphviz_layout(graph, prog='dot')\n",
    "    nx.draw(graph, pos, with_labels=False, arrows=True)\n",
    "    plt.show()"
   ]
  },
  {
   "cell_type": "code",
   "execution_count": null,
   "id": "48692348",
   "metadata": {},
   "outputs": [],
   "source": [
    "# @@ Cell 10\n",
    "# Plot all graphs in the same layout\n",
    "plt.figure(figsize=(20, 100), dpi=80)\n",
    "for dotFile in dotFiles:\n",
    "    graph = read_dot(dotFile)\n",
    "    graph = convertWeigthsToFloat(graph)\n",
    "    pos = graphviz_layout(graph, prog='dot')\n",
    "    nx.draw(graph, pos, with_labels=False, arrows=True)\n",
    "    plt.show()"
   ]
  },
  {
   "cell_type": "code",
   "execution_count": null,
   "id": "ab9313bf",
   "metadata": {},
   "outputs": [],
   "source": [
    "# @@ Cell 11\n",
    "# Plot all graphs in the same layout\n",
    "for dotFile in dotFiles:\n",
    "    plt.figure(figsize=(20, 100), dpi=80)\n",
    "    graph = read_dot(dotFile)\n",
    "    graph = convertWeigthsToFloat(graph)\n",
    "    pos = graphviz_layout(graph, prog='dot')\n",
    "    nx.draw(graph, pos, with_labels=False, arrows=True)\n",
    "    plt.show()"
   ]
  },
  {
   "cell_type": "code",
   "execution_count": null,
   "id": "b823e728",
   "metadata": {},
   "outputs": [],
   "source": [
    "# @@ Cell 12\n",
    "import sqlite3"
   ]
  },
  {
   "cell_type": "code",
   "execution_count": null,
   "id": "cf957ec8",
   "metadata": {},
   "outputs": [],
   "source": [
    "# @@ Cell 13\n",
    "import sqlite3"
   ]
  },
  {
   "cell_type": "code",
   "execution_count": null,
   "id": "c7b2a2f0",
   "metadata": {},
   "outputs": [],
   "source": [
    "# @@ Cell 14\n",
    "# Create a SQL connection to our SQLite database\n",
    "con = sqlite3.connect(\"data/portal_mammals.sqlite\")"
   ]
  },
  {
   "cell_type": "code",
   "execution_count": null,
   "id": "ee965095",
   "metadata": {},
   "outputs": [],
   "source": [
    "cur = con.cursor()"
   ]
  },
  {
   "cell_type": "code",
   "execution_count": null,
   "id": "4abff3c2",
   "metadata": {},
   "outputs": [],
   "source": [
    "# The result of a \"cursor.execute\" can be iterated over by row\n",
    "for row in cur.execute('SELECT * FROM species;'):\n",
    "    print(row)"
   ]
  },
  {
   "cell_type": "code",
   "execution_count": null,
   "id": "db00e825",
   "metadata": {},
   "outputs": [],
   "source": [
    "# Be sure to close the connection\n",
    "con.close()"
   ]
  },
  {
   "cell_type": "code",
   "execution_count": null,
   "id": "b464244c",
   "metadata": {},
   "outputs": [],
   "source": [
    "# @@ Cell 15\n",
    "path = \"/Users/christopher/Uni/MasterThesis/resultsvm/sqlite-database.db\""
   ]
  },
  {
   "cell_type": "code",
   "execution_count": null,
   "id": "5600a8c9",
   "metadata": {},
   "outputs": [],
   "source": [
    "# @@ Cell 16\n",
    "db_path = \"/Users/christopher/Uni/MasterThesis/resultsvm/sqlite-database.db\""
   ]
  },
  {
   "cell_type": "code",
   "execution_count": null,
   "id": "1a6eb234",
   "metadata": {},
   "outputs": [],
   "source": [
    "# @@ Cell 17\n",
    "# Create a SQL connection to our SQLite database\n",
    "con = sqlite3.connect(db_path)"
   ]
  },
  {
   "cell_type": "code",
   "execution_count": null,
   "id": "7dc0b161",
   "metadata": {},
   "outputs": [],
   "source": [
    "cur = con.cursor()"
   ]
  },
  {
   "cell_type": "code",
   "execution_count": null,
   "id": "6280a276",
   "metadata": {},
   "outputs": [],
   "source": [
    "# The result of a \"cursor.execute\" can be iterated over by row\n",
    "for row in cur.execute('SELECT * FROM species;'):\n",
    "    print(row)"
   ]
  },
  {
   "cell_type": "code",
   "execution_count": null,
   "id": "7222d147",
   "metadata": {},
   "outputs": [],
   "source": [
    "# Be sure to close the connection\n",
    "con.close()"
   ]
  },
  {
   "cell_type": "code",
   "execution_count": null,
   "id": "e5c41b80",
   "metadata": {},
   "outputs": [],
   "source": [
    "# @@ Cell 18\n",
    "# Create a SQL connection to our SQLite database\n",
    "con = sqlite3.connect(db_path)"
   ]
  },
  {
   "cell_type": "code",
   "execution_count": null,
   "id": "f248c46d",
   "metadata": {},
   "outputs": [],
   "source": [
    "cur = con.cursor()"
   ]
  },
  {
   "cell_type": "code",
   "execution_count": null,
   "id": "3b5526af",
   "metadata": {},
   "outputs": [],
   "source": [
    "# The result of a \"cursor.execute\" can be iterated over by row\n",
    "for row in cur.execute(\"\"\"SELECT name FROM sqlite_master  \n",
    "  WHERE type='table';\"\"\"):\n",
    "    print(row)"
   ]
  },
  {
   "cell_type": "code",
   "execution_count": null,
   "id": "ae33dcc6",
   "metadata": {},
   "outputs": [],
   "source": [
    "# Be sure to close the connection\n",
    "con.close()"
   ]
  },
  {
   "cell_type": "code",
   "execution_count": null,
   "id": "cf3635e2",
   "metadata": {},
   "outputs": [],
   "source": [
    "# @@ Cell 19\n",
    "# Create a SQL connection to our SQLite database\n",
    "con = sqlite3.connect(db_path)"
   ]
  },
  {
   "cell_type": "code",
   "execution_count": null,
   "id": "a78392d5",
   "metadata": {},
   "outputs": [],
   "source": [
    "cur = con.cursor()"
   ]
  },
  {
   "cell_type": "code",
   "execution_count": null,
   "id": "f07c6e16",
   "metadata": {},
   "outputs": [],
   "source": [
    "# The result of a \"cursor.execute\" can be iterated over by row\n",
    "for row in cur.execute('SELECT * FROM project;'):\n",
    "    print(row)"
   ]
  },
  {
   "cell_type": "code",
   "execution_count": null,
   "id": "6c45a22a",
   "metadata": {},
   "outputs": [],
   "source": [
    "# Be sure to close the connection\n",
    "con.close()"
   ]
  },
  {
   "cell_type": "code",
   "execution_count": null,
   "id": "5aa0affc",
   "metadata": {},
   "outputs": [],
   "source": [
    "# @@ Cell 20\n",
    "# Create a SQL connection to our SQLite database\n",
    "con = sqlite3.connect(db_path)"
   ]
  },
  {
   "cell_type": "code",
   "execution_count": null,
   "id": "d045f432",
   "metadata": {},
   "outputs": [],
   "source": [
    "cur = con.cursor()"
   ]
  },
  {
   "cell_type": "code",
   "execution_count": null,
   "id": "364370ea",
   "metadata": {},
   "outputs": [],
   "source": [
    "# The result of a \"cursor.execute\" can be iterated over by row\n",
    "for row in cur.execute('SELECT * FROM benchmark;'):\n",
    "    print(row)"
   ]
  },
  {
   "cell_type": "code",
   "execution_count": null,
   "id": "be6ad498",
   "metadata": {},
   "outputs": [],
   "source": [
    "# Be sure to close the connection\n",
    "con.close()"
   ]
  },
  {
   "cell_type": "code",
   "execution_count": null,
   "id": "53bddeac",
   "metadata": {},
   "outputs": [],
   "source": [
    "# @@ Cell 21\n",
    "# Create a SQL connection to our SQLite database\n",
    "con = sqlite3.connect(db_path)"
   ]
  },
  {
   "cell_type": "code",
   "execution_count": null,
   "id": "4a51e16b",
   "metadata": {},
   "outputs": [],
   "source": [
    "cur = con.cursor()"
   ]
  },
  {
   "cell_type": "code",
   "execution_count": null,
   "id": "7fbccc0e",
   "metadata": {},
   "outputs": [],
   "source": [
    "# The result of a \"cursor.execute\" can be iterated over by row\n",
    "for row in cur.execute('SELECT * FROM sqlite_sequence;'):\n",
    "    print(row)"
   ]
  },
  {
   "cell_type": "code",
   "execution_count": null,
   "id": "de311dec",
   "metadata": {},
   "outputs": [],
   "source": [
    "# Be sure to close the connection\n",
    "con.close()"
   ]
  },
  {
   "cell_type": "code",
   "execution_count": null,
   "id": "af645e36",
   "metadata": {},
   "outputs": [],
   "source": [
    "# @@ Cell 22\n",
    "# Create a SQL connection to our SQLite database\n",
    "con = sqlite3.connect(db_path)"
   ]
  },
  {
   "cell_type": "code",
   "execution_count": null,
   "id": "f1d059bd",
   "metadata": {},
   "outputs": [],
   "source": [
    "cur = con.cursor()"
   ]
  },
  {
   "cell_type": "code",
   "execution_count": null,
   "id": "41dd5b94",
   "metadata": {},
   "outputs": [],
   "source": [
    "# The result of a \"cursor.execute\" can be iterated over by row\n",
    "for row in cur.execute('SELECT * FROM measurement;'):\n",
    "    print(row)"
   ]
  },
  {
   "cell_type": "code",
   "execution_count": null,
   "id": "ee7f15a1",
   "metadata": {},
   "outputs": [],
   "source": [
    "# Be sure to close the connection\n",
    "con.close()"
   ]
  },
  {
   "cell_type": "code",
   "execution_count": null,
   "id": "be115b76",
   "metadata": {},
   "outputs": [],
   "source": [
    "# @@ Cell 23\n",
    "# Create a SQL connection to our SQLite database\n",
    "con = sqlite3.connect(db_path)"
   ]
  },
  {
   "cell_type": "code",
   "execution_count": null,
   "id": "7a598f99",
   "metadata": {},
   "outputs": [],
   "source": [
    "cur = con.cursor()"
   ]
  },
  {
   "cell_type": "code",
   "execution_count": null,
   "id": "e1abd1a1",
   "metadata": {},
   "outputs": [],
   "source": [
    "res = cur.execute('SELECT * FROM measurement;'):\n",
    "names = list(map(lambda x: x[0], res.description))"
   ]
  },
  {
   "cell_type": "code",
   "execution_count": null,
   "id": "f3e1d16c",
   "metadata": {},
   "outputs": [],
   "source": [
    "# The result of a \"cursor.execute\" can be iterated over by row\n",
    "for row in res):\n",
    "    print(row)"
   ]
  },
  {
   "cell_type": "code",
   "execution_count": null,
   "id": "0b056e24",
   "metadata": {},
   "outputs": [],
   "source": [
    "# Be sure to close the connection\n",
    "con.close()"
   ]
  },
  {
   "cell_type": "code",
   "execution_count": null,
   "id": "e88c55a0",
   "metadata": {},
   "outputs": [],
   "source": [
    "# @@ Cell 24\n",
    "# Create a SQL connection to our SQLite database\n",
    "con = sqlite3.connect(db_path)"
   ]
  },
  {
   "cell_type": "code",
   "execution_count": null,
   "id": "e984a87b",
   "metadata": {},
   "outputs": [],
   "source": [
    "cur = con.cursor()"
   ]
  },
  {
   "cell_type": "code",
   "execution_count": null,
   "id": "c4f9d74f",
   "metadata": {},
   "outputs": [],
   "source": [
    "res = cur.execute('SELECT * FROM measurement;')\n",
    "names = list(map(lambda x: x[0], res.description))"
   ]
  },
  {
   "cell_type": "code",
   "execution_count": null,
   "id": "df838df2",
   "metadata": {},
   "outputs": [],
   "source": [
    "# The result of a \"cursor.execute\" can be iterated over by row\n",
    "for row in res):\n",
    "    print(row)"
   ]
  },
  {
   "cell_type": "code",
   "execution_count": null,
   "id": "5f3c0eff",
   "metadata": {},
   "outputs": [],
   "source": [
    "# Be sure to close the connection\n",
    "con.close()"
   ]
  },
  {
   "cell_type": "code",
   "execution_count": null,
   "id": "9583a34a",
   "metadata": {},
   "outputs": [],
   "source": [
    "# @@ Cell 25\n",
    "# Create a SQL connection to our SQLite database\n",
    "con = sqlite3.connect(db_path)"
   ]
  },
  {
   "cell_type": "code",
   "execution_count": null,
   "id": "1810e539",
   "metadata": {},
   "outputs": [],
   "source": [
    "cur = con.cursor()"
   ]
  },
  {
   "cell_type": "code",
   "execution_count": null,
   "id": "b9e5b3ec",
   "metadata": {},
   "outputs": [],
   "source": [
    "res = cur.execute('SELECT * FROM measurement;')\n",
    "names = list(map(lambda x: x[0], res.description))"
   ]
  },
  {
   "cell_type": "code",
   "execution_count": null,
   "id": "93a80b15",
   "metadata": {},
   "outputs": [],
   "source": [
    "# The result of a \"cursor.execute\" can be iterated over by row\n",
    "for row in res:\n",
    "    print(row)"
   ]
  },
  {
   "cell_type": "code",
   "execution_count": null,
   "id": "ecbfee86",
   "metadata": {},
   "outputs": [],
   "source": [
    "# Be sure to close the connection\n",
    "con.close()"
   ]
  },
  {
   "cell_type": "code",
   "execution_count": null,
   "id": "01ad26b4",
   "metadata": {},
   "outputs": [],
   "source": [
    "# @@ Cell 26\n",
    "names"
   ]
  },
  {
   "cell_type": "code",
   "execution_count": null,
   "id": "5c98ffd1",
   "metadata": {},
   "outputs": [],
   "source": [
    "# @@ Cell 27\n",
    "names.toString()"
   ]
  },
  {
   "cell_type": "code",
   "execution_count": null,
   "id": "13acbba6",
   "metadata": {},
   "outputs": [],
   "source": [
    "# @@ Cell 28\n",
    "string(names)"
   ]
  },
  {
   "cell_type": "code",
   "execution_count": null,
   "id": "3e15da03",
   "metadata": {},
   "outputs": [],
   "source": [
    "# @@ Cell 29\n",
    "str(names)"
   ]
  },
  {
   "cell_type": "code",
   "execution_count": null,
   "id": "f2a2a4e4",
   "metadata": {},
   "outputs": [],
   "source": [
    "# @@ Cell 30\n",
    "results = {}"
   ]
  },
  {
   "cell_type": "code",
   "execution_count": null,
   "id": "97788c0b",
   "metadata": {},
   "outputs": [],
   "source": [
    "# @@ Cell 31\n",
    "row"
   ]
  },
  {
   "cell_type": "code",
   "execution_count": null,
   "id": "db16351c",
   "metadata": {},
   "outputs": [],
   "source": [
    "# @@ Cell 32\n",
    "row[-1]"
   ]
  },
  {
   "cell_type": "code",
   "execution_count": null,
   "id": "61d01508",
   "metadata": {},
   "outputs": [],
   "source": [
    "# @@ Cell 33\n",
    "# Create a SQL connection to our SQLite database\n",
    "con = sqlite3.connect(db_path)"
   ]
  },
  {
   "cell_type": "code",
   "execution_count": null,
   "id": "7537ad82",
   "metadata": {},
   "outputs": [],
   "source": [
    "cur = con.cursor()"
   ]
  },
  {
   "cell_type": "code",
   "execution_count": null,
   "id": "b2c96c52",
   "metadata": {},
   "outputs": [],
   "source": [
    "res = cur.execute('SELECT * FROM measurement;')\n",
    "names = list(map(lambda x: x[0], res.description))"
   ]
  },
  {
   "cell_type": "code",
   "execution_count": null,
   "id": "32a333c0",
   "metadata": {},
   "outputs": [],
   "source": [
    "# The result of a \"cursor.execute\" can be iterated over by row\n",
    "for row in res:\n",
    "    name = row[-1]\n",
    "    results[name] = row"
   ]
  },
  {
   "cell_type": "code",
   "execution_count": null,
   "id": "baac494c",
   "metadata": {},
   "outputs": [],
   "source": [
    "# Be sure to close the connection\n",
    "con.close()"
   ]
  },
  {
   "cell_type": "code",
   "execution_count": null,
   "id": "29158efb",
   "metadata": {},
   "outputs": [],
   "source": [
    "# @@ Cell 34\n",
    "results"
   ]
  },
  {
   "cell_type": "code",
   "execution_count": null,
   "id": "7a9ddc0a",
   "metadata": {},
   "outputs": [],
   "source": [
    "# @@ Cell 35\n",
    "results[x]"
   ]
  },
  {
   "cell_type": "code",
   "execution_count": null,
   "id": "7c23bba5",
   "metadata": {},
   "outputs": [],
   "source": [
    "# @@ Cell 36\n",
    "results[\"\"]"
   ]
  },
  {
   "cell_type": "code",
   "execution_count": null,
   "id": "2fcf19f9",
   "metadata": {},
   "outputs": [],
   "source": [
    "# @@ Cell 37\n",
    "# Create a SQL connection to our SQLite database\n",
    "con = sqlite3.connect(db_path)"
   ]
  },
  {
   "cell_type": "code",
   "execution_count": null,
   "id": "9c443805",
   "metadata": {},
   "outputs": [],
   "source": [
    "cur = con.cursor()"
   ]
  },
  {
   "cell_type": "code",
   "execution_count": null,
   "id": "b4f45ade",
   "metadata": {},
   "outputs": [],
   "source": [
    "res = cur.execute('SELECT * FROM measurement;')\n",
    "names = list(map(lambda x: x[0], res.description))"
   ]
  },
  {
   "cell_type": "code",
   "execution_count": null,
   "id": "4b0f15fa",
   "metadata": {},
   "outputs": [],
   "source": [
    "# The result of a \"cursor.execute\" can be iterated over by row\n",
    "for row in res:\n",
    "    name = row[-1]\n",
    "\n",
    "    \n",
    "    results[name] = row"
   ]
  },
  {
   "cell_type": "code",
   "execution_count": null,
   "id": "f55127b9",
   "metadata": {},
   "outputs": [],
   "source": [
    "# Be sure to close the connection\n",
    "con.close()"
   ]
  },
  {
   "cell_type": "code",
   "execution_count": null,
   "id": "4a2559ee",
   "metadata": {},
   "outputs": [],
   "source": [
    "# @@ Cell 38\n",
    "# Create a SQL connection to our SQLite database\n",
    "con = sqlite3.connect(db_path)"
   ]
  },
  {
   "cell_type": "code",
   "execution_count": null,
   "id": "8eea7380",
   "metadata": {},
   "outputs": [],
   "source": [
    "cur = con.cursor()"
   ]
  },
  {
   "cell_type": "code",
   "execution_count": null,
   "id": "e17bdfe0",
   "metadata": {},
   "outputs": [],
   "source": [
    "res = cur.execute('SELECT * FROM measurement;')\n",
    "names = list(map(lambda x: x[0], res.description))"
   ]
  },
  {
   "cell_type": "code",
   "execution_count": null,
   "id": "7e1dafdd",
   "metadata": {},
   "outputs": [],
   "source": [
    "# The result of a \"cursor.execute\" can be iterated over by row\n",
    "for row in res:\n",
    "    name = row[-1]\n",
    "\n",
    "    try:\n",
    "        results[name]\n",
    "    except KeyError:\n",
    "      results[name] = []\n",
    "\n",
    "    results[name] = row"
   ]
  },
  {
   "cell_type": "code",
   "execution_count": null,
   "id": "2ae05694",
   "metadata": {},
   "outputs": [],
   "source": [
    "# Be sure to close the connection\n",
    "con.close()"
   ]
  },
  {
   "cell_type": "code",
   "execution_count": null,
   "id": "97d9230b",
   "metadata": {},
   "outputs": [],
   "source": [
    "# @@ Cell 39\n",
    "# Create a SQL connection to our SQLite database\n",
    "con = sqlite3.connect(db_path)"
   ]
  },
  {
   "cell_type": "code",
   "execution_count": null,
   "id": "4fff830b",
   "metadata": {},
   "outputs": [],
   "source": [
    "cur = con.cursor()"
   ]
  },
  {
   "cell_type": "code",
   "execution_count": null,
   "id": "399a4b1a",
   "metadata": {},
   "outputs": [],
   "source": [
    "res = cur.execute('SELECT * FROM measurement;')\n",
    "names = list(map(lambda x: x[0], res.description))"
   ]
  },
  {
   "cell_type": "code",
   "execution_count": null,
   "id": "9c1ab82c",
   "metadata": {},
   "outputs": [],
   "source": [
    "# The result of a \"cursor.execute\" can be iterated over by row\n",
    "for row in res:\n",
    "    name = row[-1]\n",
    "\n",
    "    try:\n",
    "        results[name]\n",
    "    except KeyError:\n",
    "      results[name] = []\n",
    "\n",
    "    results[name] = results[name].append(for row in res:\n",
    ")"
   ]
  },
  {
   "cell_type": "code",
   "execution_count": null,
   "id": "2aecdbd3",
   "metadata": {},
   "outputs": [],
   "source": [
    "# Be sure to close the connection\n",
    "con.close()"
   ]
  },
  {
   "cell_type": "code",
   "execution_count": null,
   "id": "d6572eff",
   "metadata": {},
   "outputs": [],
   "source": [
    "# @@ Cell 40\n",
    "# Create a SQL connection to our SQLite database\n",
    "con = sqlite3.connect(db_path)"
   ]
  },
  {
   "cell_type": "code",
   "execution_count": null,
   "id": "f389e55e",
   "metadata": {},
   "outputs": [],
   "source": [
    "cur = con.cursor()"
   ]
  },
  {
   "cell_type": "code",
   "execution_count": null,
   "id": "bcc3284d",
   "metadata": {},
   "outputs": [],
   "source": [
    "res = cur.execute('SELECT * FROM measurement;')\n",
    "names = list(map(lambda x: x[0], res.description))"
   ]
  },
  {
   "cell_type": "code",
   "execution_count": null,
   "id": "3470d793",
   "metadata": {},
   "outputs": [],
   "source": [
    "# The result of a \"cursor.execute\" can be iterated over by row\n",
    "for row in res:\n",
    "    name = row[-1]\n",
    "\n",
    "    try:\n",
    "        results[name]\n",
    "    except KeyError:\n",
    "      results[name] = []\n",
    "\n",
    "    results[name] = results[name].append(row)"
   ]
  },
  {
   "cell_type": "code",
   "execution_count": null,
   "id": "9cd04d80",
   "metadata": {},
   "outputs": [],
   "source": [
    "# Be sure to close the connection\n",
    "con.close()"
   ]
  },
  {
   "cell_type": "code",
   "execution_count": null,
   "id": "eb754a83",
   "metadata": {},
   "outputs": [],
   "source": [
    "# @@ Cell 41\n",
    "# Create a SQL connection to our SQLite database\n",
    "con = sqlite3.connect(db_path)"
   ]
  },
  {
   "cell_type": "code",
   "execution_count": null,
   "id": "b07434dd",
   "metadata": {},
   "outputs": [],
   "source": [
    "cur = con.cursor()"
   ]
  },
  {
   "cell_type": "code",
   "execution_count": null,
   "id": "4c1f8cca",
   "metadata": {},
   "outputs": [],
   "source": [
    "res = cur.execute('SELECT * FROM measurement;')\n",
    "names = list(map(lambda x: x[0], res.description))"
   ]
  },
  {
   "cell_type": "code",
   "execution_count": null,
   "id": "d00010c7",
   "metadata": {},
   "outputs": [],
   "source": [
    "# The result of a \"cursor.execute\" can be iterated over by row\n",
    "for row in res:\n",
    "    name = row[-1]\n",
    "\n",
    "    try:\n",
    "        results[name]\n",
    "    except KeyError:\n",
    "      results[name] = []\n",
    "\n",
    "    results[name] = results[name].append(row)"
   ]
  },
  {
   "cell_type": "code",
   "execution_count": null,
   "id": "9baa1613",
   "metadata": {},
   "outputs": [],
   "source": [
    "# Be sure to close the connection\n",
    "con.close()"
   ]
  },
  {
   "cell_type": "code",
   "execution_count": null,
   "id": "ffe605fb",
   "metadata": {},
   "outputs": [],
   "source": [
    "# @@ Cell 42\n",
    "# Create a SQL connection to our SQLite database\n",
    "con = sqlite3.connect(db_path)"
   ]
  },
  {
   "cell_type": "code",
   "execution_count": null,
   "id": "d036bf69",
   "metadata": {},
   "outputs": [],
   "source": [
    "cur = con.cursor()"
   ]
  },
  {
   "cell_type": "code",
   "execution_count": null,
   "id": "ae118380",
   "metadata": {},
   "outputs": [],
   "source": [
    "res = cur.execute('SELECT * FROM measurement;')\n",
    "names = list(map(lambda x: x[0], res.description))"
   ]
  },
  {
   "cell_type": "code",
   "execution_count": null,
   "id": "d765e261",
   "metadata": {},
   "outputs": [],
   "source": [
    "# The result of a \"cursor.execute\" can be iterated over by row\n",
    "for row in res:\n",
    "    name = row[-1]\n",
    "\n",
    "    try:\n",
    "        results[name]\n",
    "    except KeyError:\n",
    "        results[name] = []\n",
    "\n",
    "    results[name] = results[name].append(row)"
   ]
  },
  {
   "cell_type": "code",
   "execution_count": null,
   "id": "b4f6cf2c",
   "metadata": {},
   "outputs": [],
   "source": [
    "# Be sure to close the connection\n",
    "con.close()"
   ]
  },
  {
   "cell_type": "code",
   "execution_count": null,
   "id": "06cf23d6",
   "metadata": {},
   "outputs": [],
   "source": [
    "# @@ Cell 43\n",
    "results = {}"
   ]
  },
  {
   "cell_type": "code",
   "execution_count": null,
   "id": "a72ed294",
   "metadata": {},
   "outputs": [],
   "source": [
    "# @@ Cell 44\n",
    "# Create a SQL connection to our SQLite database\n",
    "con = sqlite3.connect(db_path)"
   ]
  },
  {
   "cell_type": "code",
   "execution_count": null,
   "id": "39c53fb4",
   "metadata": {},
   "outputs": [],
   "source": [
    "cur = con.cursor()"
   ]
  },
  {
   "cell_type": "code",
   "execution_count": null,
   "id": "157444f5",
   "metadata": {},
   "outputs": [],
   "source": [
    "res = cur.execute('SELECT * FROM measurement;')\n",
    "names = list(map(lambda x: x[0], res.description))"
   ]
  },
  {
   "cell_type": "code",
   "execution_count": null,
   "id": "8402956e",
   "metadata": {},
   "outputs": [],
   "source": [
    "# The result of a \"cursor.execute\" can be iterated over by row\n",
    "for row in res:\n",
    "    name = row[-1]\n",
    "\n",
    "    try:\n",
    "        results[name]\n",
    "    except KeyError:\n",
    "        results[name] = []\n",
    "\n",
    "    results[name] = results[name].append(row)"
   ]
  },
  {
   "cell_type": "code",
   "execution_count": null,
   "id": "d9da4ad7",
   "metadata": {},
   "outputs": [],
   "source": [
    "# Be sure to close the connection\n",
    "con.close()"
   ]
  },
  {
   "cell_type": "code",
   "execution_count": null,
   "id": "696692ef",
   "metadata": {},
   "outputs": [],
   "source": [
    "# @@ Cell 45\n",
    "# Create a SQL connection to our SQLite database\n",
    "con = sqlite3.connect(db_path)"
   ]
  },
  {
   "cell_type": "code",
   "execution_count": null,
   "id": "9ed264bd",
   "metadata": {},
   "outputs": [],
   "source": [
    "cur = con.cursor()"
   ]
  },
  {
   "cell_type": "code",
   "execution_count": null,
   "id": "39391db8",
   "metadata": {},
   "outputs": [],
   "source": [
    "res = cur.execute('SELECT * FROM measurement;')\n",
    "names = list(map(lambda x: x[0], res.description))"
   ]
  },
  {
   "cell_type": "code",
   "execution_count": null,
   "id": "b79e5fd0",
   "metadata": {},
   "outputs": [],
   "source": [
    "# The result of a \"cursor.execute\" can be iterated over by row\n",
    "for row in res:\n",
    "    name = row[-1]\n",
    "\n",
    "    try:\n",
    "        results[name]\n",
    "    except KeyError:\n",
    "        results[name] = List([)\n",
    "\n",
    "    results[name] = results[name].append(row)"
   ]
  },
  {
   "cell_type": "code",
   "execution_count": null,
   "id": "c98f26ef",
   "metadata": {},
   "outputs": [],
   "source": [
    "# Be sure to close the connection\n",
    "con.close()"
   ]
  },
  {
   "cell_type": "code",
   "execution_count": null,
   "id": "07cda777",
   "metadata": {},
   "outputs": [],
   "source": [
    "# @@ Cell 46\n",
    "# Create a SQL connection to our SQLite database\n",
    "con = sqlite3.connect(db_path)"
   ]
  },
  {
   "cell_type": "code",
   "execution_count": null,
   "id": "fa74abd3",
   "metadata": {},
   "outputs": [],
   "source": [
    "cur = con.cursor()"
   ]
  },
  {
   "cell_type": "code",
   "execution_count": null,
   "id": "7f6063e7",
   "metadata": {},
   "outputs": [],
   "source": [
    "res = cur.execute('SELECT * FROM measurement;')\n",
    "names = list(map(lambda x: x[0], res.description))"
   ]
  },
  {
   "cell_type": "code",
   "execution_count": null,
   "id": "f603303e",
   "metadata": {},
   "outputs": [],
   "source": [
    "# The result of a \"cursor.execute\" can be iterated over by row\n",
    "for row in res:\n",
    "    name = row[-1]\n",
    "\n",
    "    try:\n",
    "        results[name]\n",
    "    except KeyError:\n",
    "        results[name] = List([])\n",
    "\n",
    "    results[name] = results[name].append(row)"
   ]
  },
  {
   "cell_type": "code",
   "execution_count": null,
   "id": "c48cc9fd",
   "metadata": {},
   "outputs": [],
   "source": [
    "# Be sure to close the connection\n",
    "con.close()"
   ]
  },
  {
   "cell_type": "code",
   "execution_count": null,
   "id": "c87801c9",
   "metadata": {},
   "outputs": [],
   "source": [
    "# @@ Cell 47\n",
    "results[1] = []"
   ]
  },
  {
   "cell_type": "code",
   "execution_count": null,
   "id": "58482df0",
   "metadata": {},
   "outputs": [],
   "source": [
    "# @@ Cell 48\n",
    "results[1]"
   ]
  },
  {
   "cell_type": "code",
   "execution_count": null,
   "id": "987aa2d2",
   "metadata": {},
   "outputs": [],
   "source": [
    "# @@ Cell 49\n",
    "results[1].append(x)"
   ]
  },
  {
   "cell_type": "code",
   "execution_count": null,
   "id": "3ee747f1",
   "metadata": {},
   "outputs": [],
   "source": [
    "# @@ Cell 50\n",
    "results[1].append(12)"
   ]
  },
  {
   "cell_type": "code",
   "execution_count": null,
   "id": "4e202ab0",
   "metadata": {},
   "outputs": [],
   "source": [
    "# @@ Cell 51\n",
    "try:\n",
    "    results[2]\n",
    "except KeyError:\n",
    "    results[2] = List([])"
   ]
  },
  {
   "cell_type": "code",
   "execution_count": null,
   "id": "62079fc3",
   "metadata": {},
   "outputs": [],
   "source": [
    "# @@ Cell 52\n",
    "try:\n",
    "    results[2]\n",
    "except KeyError:\n",
    "    results[2] = []"
   ]
  },
  {
   "cell_type": "code",
   "execution_count": null,
   "id": "72a460d3",
   "metadata": {},
   "outputs": [],
   "source": [
    "# @@ Cell 53\n",
    "results[2]"
   ]
  },
  {
   "cell_type": "code",
   "execution_count": null,
   "id": "2b47c0d6",
   "metadata": {},
   "outputs": [],
   "source": [
    "# @@ Cell 54\n",
    "results[2].append(5)"
   ]
  },
  {
   "cell_type": "code",
   "execution_count": null,
   "id": "7f5a804e",
   "metadata": {},
   "outputs": [],
   "source": [
    "# @@ Cell 55\n",
    "results = {}"
   ]
  },
  {
   "cell_type": "code",
   "execution_count": null,
   "id": "d0ccbb80",
   "metadata": {},
   "outputs": [],
   "source": [
    "# @@ Cell 56\n",
    "# Create a SQL connection to our SQLite database\n",
    "con = sqlite3.connect(db_path)"
   ]
  },
  {
   "cell_type": "code",
   "execution_count": null,
   "id": "87f0d50f",
   "metadata": {},
   "outputs": [],
   "source": [
    "cur = con.cursor()"
   ]
  },
  {
   "cell_type": "code",
   "execution_count": null,
   "id": "120ae906",
   "metadata": {},
   "outputs": [],
   "source": [
    "res = cur.execute('SELECT * FROM measurement;')\n",
    "names = list(map(lambda x: x[0], res.description))"
   ]
  },
  {
   "cell_type": "code",
   "execution_count": null,
   "id": "00364147",
   "metadata": {},
   "outputs": [],
   "source": [
    "# The result of a \"cursor.execute\" can be iterated over by row\n",
    "for row in res:\n",
    "    name = row[-1]\n",
    "\n",
    "    try:\n",
    "        results[name]\n",
    "    except KeyError:\n",
    "        results[name] = []\n",
    "\n",
    "    results[name] = results[name].append(row)"
   ]
  },
  {
   "cell_type": "code",
   "execution_count": null,
   "id": "3231927a",
   "metadata": {},
   "outputs": [],
   "source": [
    "# Be sure to close the connection\n",
    "con.close()"
   ]
  },
  {
   "cell_type": "code",
   "execution_count": null,
   "id": "b3a8cd44",
   "metadata": {},
   "outputs": [],
   "source": [
    "# @@ Cell 57\n",
    "# Create a SQL connection to our SQLite database\n",
    "con = sqlite3.connect(db_path)"
   ]
  },
  {
   "cell_type": "code",
   "execution_count": null,
   "id": "e4f0bdf7",
   "metadata": {},
   "outputs": [],
   "source": [
    "cur = con.cursor()"
   ]
  },
  {
   "cell_type": "code",
   "execution_count": null,
   "id": "b5c9f8c3",
   "metadata": {},
   "outputs": [],
   "source": [
    "res = cur.execute('SELECT * FROM measurement;')\n",
    "names = list(map(lambda x: x[0], res.description))"
   ]
  },
  {
   "cell_type": "code",
   "execution_count": null,
   "id": "1773801e",
   "metadata": {},
   "outputs": [],
   "source": [
    "# The result of a \"cursor.execute\" can be iterated over by row\n",
    "for row in res:\n",
    "    name = row[-1]\n",
    "\n",
    "    try:\n",
    "        results[name]\n",
    "    except KeyError:\n",
    "        print(\"I was her\")\n",
    "        results[name] = []\n",
    "\n",
    "    results[name] = results[name].append(row)"
   ]
  },
  {
   "cell_type": "code",
   "execution_count": null,
   "id": "212b06b3",
   "metadata": {},
   "outputs": [],
   "source": [
    "# Be sure to close the connection\n",
    "con.close()"
   ]
  },
  {
   "cell_type": "code",
   "execution_count": null,
   "id": "657a3c75",
   "metadata": {},
   "outputs": [],
   "source": [
    "# @@ Cell 58\n",
    "results = {}"
   ]
  },
  {
   "cell_type": "code",
   "execution_count": null,
   "id": "97e024ae",
   "metadata": {},
   "outputs": [],
   "source": [
    "# @@ Cell 59\n",
    "# Create a SQL connection to our SQLite database\n",
    "con = sqlite3.connect(db_path)"
   ]
  },
  {
   "cell_type": "code",
   "execution_count": null,
   "id": "4eb59c85",
   "metadata": {},
   "outputs": [],
   "source": [
    "cur = con.cursor()"
   ]
  },
  {
   "cell_type": "code",
   "execution_count": null,
   "id": "68b84fb4",
   "metadata": {},
   "outputs": [],
   "source": [
    "res = cur.execute('SELECT * FROM measurement;')\n",
    "names = list(map(lambda x: x[0], res.description))"
   ]
  },
  {
   "cell_type": "code",
   "execution_count": null,
   "id": "85756007",
   "metadata": {},
   "outputs": [],
   "source": [
    "# The result of a \"cursor.execute\" can be iterated over by row\n",
    "for row in res:\n",
    "    name = row[-1]\n",
    "\n",
    "    try:\n",
    "        results[name]\n",
    "    except KeyError:\n",
    "        print(\"I was her\")\n",
    "        results[name] = []\n",
    "\n",
    "    results[name] = results[name].append(row)"
   ]
  },
  {
   "cell_type": "code",
   "execution_count": null,
   "id": "676636fa",
   "metadata": {},
   "outputs": [],
   "source": [
    "# Be sure to close the connection\n",
    "con.close()"
   ]
  },
  {
   "cell_type": "code",
   "execution_count": null,
   "id": "e8b9ca88",
   "metadata": {},
   "outputs": [],
   "source": [
    "# @@ Cell 60\n",
    "results = {}"
   ]
  },
  {
   "cell_type": "code",
   "execution_count": null,
   "id": "30ea3b85",
   "metadata": {},
   "outputs": [],
   "source": [
    "# Create a SQL connection to our SQLite database\n",
    "con = sqlite3.connect(db_path)"
   ]
  },
  {
   "cell_type": "code",
   "execution_count": null,
   "id": "06f81372",
   "metadata": {},
   "outputs": [],
   "source": [
    "cur = con.cursor()"
   ]
  },
  {
   "cell_type": "code",
   "execution_count": null,
   "id": "da75d5b7",
   "metadata": {},
   "outputs": [],
   "source": [
    "res = cur.execute('SELECT * FROM measurement;')\n",
    "names = list(map(lambda x: x[0], res.description))"
   ]
  },
  {
   "cell_type": "code",
   "execution_count": null,
   "id": "77fef2cc",
   "metadata": {},
   "outputs": [],
   "source": [
    "# The result of a \"cursor.execute\" can be iterated over by row\n",
    "for row in res:\n",
    "    name = row[-1]\n",
    "\n",
    "    try:\n",
    "        results[name]\n",
    "    except KeyError:\n",
    "        results[name] = []\n",
    "\n",
    "    results[name].append(row)"
   ]
  },
  {
   "cell_type": "code",
   "execution_count": null,
   "id": "4758d652",
   "metadata": {},
   "outputs": [],
   "source": [
    "# Be sure to close the connection\n",
    "con.close()"
   ]
  },
  {
   "cell_type": "code",
   "execution_count": null,
   "id": "11995a9e",
   "metadata": {},
   "outputs": [],
   "source": [
    "# @@ Cell 61\n",
    "results"
   ]
  },
  {
   "cell_type": "code",
   "execution_count": null,
   "id": "d3cbee64",
   "metadata": {},
   "outputs": [],
   "source": [
    "# @@ Cell 62\n",
    "string(names)"
   ]
  },
  {
   "cell_type": "code",
   "execution_count": null,
   "id": "7f216d7d",
   "metadata": {},
   "outputs": [],
   "source": [
    "# @@ Cell 63\n",
    "for bench in results.keys():\n",
    "    print(bench)"
   ]
  },
  {
   "cell_type": "code",
   "execution_count": null,
   "id": "43a3dca5",
   "metadata": {},
   "outputs": [],
   "source": [
    "# @@ Cell 64\n",
    "for bench in results.keys():\n",
    "    for entry in results[bench]:\n",
    "        pring(entry[2])"
   ]
  },
  {
   "cell_type": "code",
   "execution_count": null,
   "id": "e888a009",
   "metadata": {},
   "outputs": [],
   "source": [
    "# @@ Cell 65\n",
    "for bench in results.keys():\n",
    "    for entry in results[bench]:\n",
    "        print(entry[2])"
   ]
  },
  {
   "cell_type": "code",
   "execution_count": null,
   "id": "cbb54a6e",
   "metadata": {},
   "outputs": [],
   "source": [
    "# @@ Cell 66\n",
    "for bench in results.keys():\n",
    "    x = []\n",
    "    for entry in results[bench]:\n",
    "        x.append(entry[2])\n",
    "    plt.plot(x)\n",
    "plt.show()"
   ]
  },
  {
   "cell_type": "code",
   "execution_count": null,
   "id": "e99a70f4",
   "metadata": {},
   "outputs": [],
   "source": [
    "# @@ Cell 67\n",
    "for bench in results.keys():\n",
    "    x = []\n",
    "    for entry in results[bench]:\n",
    "        x.append(entry[2])\n",
    "    plt.plot(x)\n",
    "    plt.show()"
   ]
  },
  {
   "cell_type": "code",
   "execution_count": null,
   "id": "639d1649",
   "metadata": {},
   "outputs": [],
   "source": [
    "# @@ Cell 68\n",
    "for bench in results.keys():\n",
    "    x = []\n",
    "    for entry in results[bench]:\n",
    "        x.append(entry[2])\n",
    "    plt.plot(x)\n",
    "    plt.plot(np.std(x))\n",
    "    plt.show()"
   ]
  },
  {
   "cell_type": "code",
   "execution_count": null,
   "id": "fefce5a8",
   "metadata": {},
   "outputs": [],
   "source": [
    "# @@ Cell 69\n",
    "import os\n",
    "import glob"
   ]
  },
  {
   "cell_type": "code",
   "execution_count": null,
   "id": "a26c9021",
   "metadata": {},
   "outputs": [],
   "source": [
    "import numpy as np\n",
    "import matplotlib.pyplot as plt\n",
    "import networkx as nx\n",
    "from networkx.drawing.nx_agraph import read_dot, write_dot, graphviz_layout"
   ]
  },
  {
   "cell_type": "code",
   "execution_count": null,
   "id": "8a0d1ce9",
   "metadata": {},
   "outputs": [],
   "source": [
    "# @@ Cell 70\n",
    "for bench in results.keys():\n",
    "    x = []\n",
    "    for entry in results[bench]:\n",
    "        x.append(entry[2])\n",
    "    plt.plot(x)\n",
    "    plt.plot(np.std(x))\n",
    "    plt.show()"
   ]
  },
  {
   "cell_type": "code",
   "execution_count": null,
   "id": "96b22128",
   "metadata": {},
   "outputs": [],
   "source": [
    "# @@ Cell 71\n",
    "for bench in results.keys():\n",
    "    x = []\n",
    "    for entry in results[bench]:\n",
    "        x.append(entry[2])\n",
    "    # plt.plot(x)\n",
    "    plt.plot(np.std(x))\n",
    "    plt.show()"
   ]
  },
  {
   "cell_type": "code",
   "execution_count": null,
   "id": "1df3104b",
   "metadata": {},
   "outputs": [],
   "source": [
    "# @@ Cell 72\n",
    "for bench in results.keys():\n",
    "    x = []\n",
    "    for entry in results[bench]:\n",
    "        x.append(entry[2])\n",
    "    # plt.plot(x)\n",
    "    plt.plot(np.std(x))\n",
    "plt.show()"
   ]
  },
  {
   "cell_type": "code",
   "execution_count": null,
   "id": "5375e2f3",
   "metadata": {},
   "outputs": [],
   "source": [
    "# @@ Cell 73\n",
    "for bench in results.keys():\n",
    "    x = []\n",
    "    for entry in results[bench]:\n",
    "        x.append(entry[2])\n",
    "    # plt.plot(x)\n",
    "    plt.plot(np.std(np.asarray(x))\n",
    "plt.show()"
   ]
  },
  {
   "cell_type": "code",
   "execution_count": null,
   "id": "c760bdd9",
   "metadata": {},
   "outputs": [],
   "source": [
    "# @@ Cell 74\n",
    "for bench in results.keys():\n",
    "    x = []\n",
    "    for entry in results[bench]:\n",
    "        x.append(entry[2])\n",
    "    # plt.plot(x)\n",
    "    plt.plot(np.std(np.asarray(x)))\n",
    "plt.show()"
   ]
  },
  {
   "cell_type": "code",
   "execution_count": null,
   "id": "6ef28905",
   "metadata": {},
   "outputs": [],
   "source": [
    "# @@ Cell 75\n",
    "x"
   ]
  },
  {
   "cell_type": "code",
   "execution_count": null,
   "id": "e1912be7",
   "metadata": {},
   "outputs": [],
   "source": [
    "# @@ Cell 76\n",
    "np.std(x)"
   ]
  },
  {
   "cell_type": "code",
   "execution_count": null,
   "id": "0f75a30e",
   "metadata": {},
   "outputs": [],
   "source": [
    "# @@ Cell 77\n",
    "for bench in results.keys():\n",
    "    x = []\n",
    "    for entry in results[bench]:\n",
    "        x.append(entry[2])\n",
    "    # plt.plot(x)\n",
    "    plt.plot(np.std(x))\n",
    "plt.show()"
   ]
  },
  {
   "cell_type": "code",
   "execution_count": null,
   "id": "c1ae1cce",
   "metadata": {},
   "outputs": [],
   "source": [
    "# @@ Cell 78\n",
    "for bench in results.keys():\n",
    "    x = []\n",
    "    for entry in results[bench]:\n",
    "        x.append(entry[2])\n",
    "    # plt.plot(x)\n",
    "    plt.plot(np.std(x))\n",
    "    plt.show()"
   ]
  },
  {
   "cell_type": "code",
   "execution_count": null,
   "id": "e7308e09",
   "metadata": {},
   "outputs": [],
   "source": [
    "# @@ Cell 79\n",
    "pl.plot(4)"
   ]
  },
  {
   "cell_type": "code",
   "execution_count": null,
   "id": "ba2d4e3b",
   "metadata": {},
   "outputs": [],
   "source": [
    "# @@ Cell 80\n",
    "plt.plot(4)"
   ]
  },
  {
   "cell_type": "code",
   "execution_count": null,
   "id": "206d7202",
   "metadata": {},
   "outputs": [],
   "source": [
    "# @@ Cell 81\n",
    "for bench in results.keys():\n",
    "    x = []\n",
    "    for entry in results[bench]:\n",
    "        x.append(entry[2])\n",
    "    # plt.plot(x)\n",
    "    plt.axhline(y=np.std(x), color='r', linestyle='-')\n",
    "    plt.show()"
   ]
  },
  {
   "cell_type": "code",
   "execution_count": null,
   "id": "ca59a1a7",
   "metadata": {},
   "outputs": [],
   "source": [
    "# @@ Cell 82\n",
    "for bench in results.keys():\n",
    "    x = []\n",
    "    for entry in results[bench]:\n",
    "        x.append(entry[2])\n",
    "    # plt.plot(x)\n",
    "    plt.axhline(y=np.std(x), color='r', linestyle='-')\n",
    "plt.show()"
   ]
  },
  {
   "cell_type": "code",
   "execution_count": null,
   "id": "68dff918",
   "metadata": {},
   "outputs": [],
   "source": [
    "# @@ Cell 83\n",
    "for bench in results.keys():\n",
    "    x = []\n",
    "    for entry in results[bench]:\n",
    "        x.append(entry[2])\n",
    "    # plt.plot(x)\n",
    "    plt.axhline(y=np.std(x), linestyle='-')\n",
    "plt.show()"
   ]
  },
  {
   "cell_type": "code",
   "execution_count": null,
   "id": "8854aa13",
   "metadata": {},
   "outputs": [],
   "source": [
    "# @@ Cell 84\n",
    "for bench in results.keys():\n",
    "    x = []\n",
    "    for entry in results[bench]:\n",
    "        x.append(entry[2])\n",
    "    # plt.plot(x)\n",
    "    plt.axhline(y=np.std(x), linestyle='-')\n",
    "plt.show()"
   ]
  },
  {
   "cell_type": "code",
   "execution_count": null,
   "id": "b1f8ca02",
   "metadata": {},
   "outputs": [],
   "source": [
    "# @@ Cell 85\n",
    "for bench in results.keys():\n",
    "    x = []\n",
    "    for entry in results[bench]:\n",
    "        print(entry[1])\n",
    "        x.append(entry[2])\n",
    "    # plt.plot(x)\n",
    "    plt.axhline(y=np.std(x), linestyle='-')\n",
    "plt.show()"
   ]
  },
  {
   "cell_type": "code",
   "execution_count": null,
   "id": "6fb02035",
   "metadata": {},
   "outputs": [],
   "source": [
    "# @@ Cell 86\n",
    "for bench in results.keys():\n",
    "    x = []\n",
    "    for entry in results[bench]:\n",
    "        x.append(entry[2])\n",
    "    # plt.plot(x)\n",
    "    plt.axhline(y=np.std(x), linestyle='-')\n",
    "plt.show()"
   ]
  },
  {
   "cell_type": "code",
   "execution_count": null,
   "id": "520baa7c",
   "metadata": {},
   "outputs": [],
   "source": [
    "# @@ Cell 87\n",
    "std = []\n",
    "for bench in results.keys():\n",
    "    x = []\n",
    "    for entry in results[bench]:\n",
    "        x.append(entry[2])\n",
    "    # plt.plot(x)\n",
    "    std.append(np.std(x))\n",
    "    # plt.axhline(y=np.std(x), linestyle='-')\n",
    "plt.plot(std)\n",
    "plt.show()"
   ]
  },
  {
   "cell_type": "code",
   "execution_count": null,
   "id": "ccc207dd",
   "metadata": {},
   "outputs": [],
   "source": [
    "# @@ Cell 88\n",
    "for bench in results.keys():\n",
    "    x = []\n",
    "    for entry in results[bench]:\n",
    "        x.append(entry[2])\n",
    "    plt.boxplot(x)\n",
    "    plt.show()"
   ]
  },
  {
   "cell_type": "code",
   "execution_count": null,
   "id": "3565f719",
   "metadata": {},
   "outputs": [],
   "source": [
    "# @@ Cell 89\n",
    "get_ipython().run_line_magic('pip', 'install scipy')"
   ]
  },
  {
   "cell_type": "code",
   "execution_count": null,
   "id": "4fbc7e1e",
   "metadata": {},
   "outputs": [],
   "source": [
    "# @@ Cell 90\n",
    "import os\n",
    "import numpy as np\n",
    "import pandas as pd\n",
    "import seaborn as sns\n",
    "import matplotlib.pyplot as plt\n",
    "import scipy.stats as sta\n",
    "import scikit_posthocs as sp\n",
    "from cliffs_delta import cliffs_delta"
   ]
  },
  {
   "cell_type": "code",
   "execution_count": null,
   "id": "9c216517",
   "metadata": {},
   "outputs": [],
   "source": [
    "# @@ Cell 91\n",
    "import os\n",
    "import numpy as np\n",
    "import pandas as pd\n",
    "import seaborn as sns\n",
    "import matplotlib.pyplot as plt\n",
    "import scipy.stats as sta"
   ]
  },
  {
   "cell_type": "code",
   "execution_count": null,
   "id": "4a3cf7f2",
   "metadata": {},
   "outputs": [],
   "source": [
    "# @@ Cell 92\n",
    "results"
   ]
  },
  {
   "cell_type": "code",
   "execution_count": null,
   "id": "26826347",
   "metadata": {},
   "outputs": [],
   "source": [
    "# @@ Cell 93\n",
    "results.keys()"
   ]
  },
  {
   "cell_type": "code",
   "execution_count": null,
   "id": "a368b466",
   "metadata": {},
   "outputs": [],
   "source": [
    "# @@ Cell 94\n",
    "results[\"BenchmarkParseText\"]"
   ]
  },
  {
   "cell_type": "code",
   "execution_count": null,
   "id": "27f82ccc",
   "metadata": {},
   "outputs": [],
   "source": [
    "# @@ Cell 95\n",
    "sta.mstats.mquantiles_cimj()"
   ]
  },
  {
   "cell_type": "code",
   "execution_count": null,
   "id": "81f5a9e3",
   "metadata": {},
   "outputs": [],
   "source": [
    "# @@ Cell 96\n",
    "x"
   ]
  },
  {
   "cell_type": "code",
   "execution_count": null,
   "id": "75a3f36a",
   "metadata": {},
   "outputs": [],
   "source": [
    "# @@ Cell 97\n",
    "sta.mstats.mquantiles_cimj(x)"
   ]
  },
  {
   "cell_type": "code",
   "execution_count": null,
   "id": "6a65fb50",
   "metadata": {
    "lines_to_next_cell": 1
   },
   "outputs": [],
   "source": [
    "# @@ Cell 98\n",
    "\"\"\"\n",
    "Measure of worst variability between repeated runs\n",
    "b: int[] = mean measurements\n",
    "\"\"\"\n",
    "def max_spread(b)\n",
    "    mb = np.mean(b)\n",
    "    return np.max([(np.abs(r1-r2) / mb) for r1 in b for r2 in b])"
   ]
  },
  {
   "cell_type": "code",
   "execution_count": null,
   "id": "44949543",
   "metadata": {
    "lines_to_next_cell": 1
   },
   "outputs": [],
   "source": [
    "# @@ Cell 99\n",
    "\"\"\"\n",
    "Measure of worst variability between repeated runs\n",
    "b: int[] = mean measurements\n",
    "\"\"\"\n",
    "def max_spread(b):\n",
    "    mb = np.mean(b)\n",
    "    return np.max([(np.abs(r1-r2) / mb) for r1 in b for r2 in b])"
   ]
  },
  {
   "cell_type": "code",
   "execution_count": null,
   "id": "9d32530b",
   "metadata": {},
   "outputs": [],
   "source": [
    "# @@ Cell 100\n",
    "max_spread(x)"
   ]
  },
  {
   "cell_type": "code",
   "execution_count": null,
   "id": "2d536b46",
   "metadata": {},
   "outputs": [],
   "source": [
    "# @@ Cell 101\n",
    "x"
   ]
  },
  {
   "cell_type": "code",
   "execution_count": null,
   "id": "91b768df",
   "metadata": {},
   "outputs": [],
   "source": [
    "# @@ Cell 102\n",
    "np.mean(b)"
   ]
  },
  {
   "cell_type": "code",
   "execution_count": null,
   "id": "3cc98807",
   "metadata": {},
   "outputs": [],
   "source": [
    "# @@ Cell 103\n",
    "np.mean(x)"
   ]
  },
  {
   "cell_type": "code",
   "execution_count": null,
   "id": "387d4a9c",
   "metadata": {},
   "outputs": [],
   "source": [
    "# @@ Cell 104\n",
    "std = []\n",
    "spread = []\n",
    "for bench in results.keys():\n",
    "    x = []\n",
    "    for entry in results[bench]:\n",
    "        x.append(entry[2])\n",
    "    std.append(np.std(x))\n",
    "    spread.append(max_spread(x))"
   ]
  },
  {
   "cell_type": "code",
   "execution_count": null,
   "id": "cd20e830",
   "metadata": {},
   "outputs": [],
   "source": [
    "# @@ Cell 105\n",
    "std"
   ]
  },
  {
   "cell_type": "code",
   "execution_count": null,
   "id": "db6172b3",
   "metadata": {},
   "outputs": [],
   "source": [
    "# @@ Cell 106\n",
    "spread"
   ]
  },
  {
   "cell_type": "code",
   "execution_count": null,
   "id": "bd19910c",
   "metadata": {},
   "outputs": [],
   "source": [
    "# @@ Cell 107\n",
    "[x for x in range(len(std))]"
   ]
  },
  {
   "cell_type": "code",
   "execution_count": null,
   "id": "ead7cf80",
   "metadata": {},
   "outputs": [],
   "source": [
    "# @@ Cell 108\n",
    "# y = [x for x in range(len(std))]\n",
    "plt.plot(1std)"
   ]
  },
  {
   "cell_type": "code",
   "execution_count": null,
   "id": "5509d121",
   "metadata": {},
   "outputs": [],
   "source": [
    "# @@ Cell 109\n",
    "# y = [x for x in range(len(std))]\n",
    "plt.plot(std)"
   ]
  },
  {
   "cell_type": "code",
   "execution_count": null,
   "id": "954fa6a9",
   "metadata": {},
   "outputs": [],
   "source": [
    "# @@ Cell 110\n",
    "# y = [x for x in range(len(std))]\n",
    "plt.plot(std)\n",
    "plt.plot(spread)"
   ]
  },
  {
   "cell_type": "code",
   "execution_count": null,
   "id": "fff0a2b6",
   "metadata": {},
   "outputs": [],
   "source": [
    "# @@ Cell 111\n",
    "# y = [x for x in range(len(std))]\n",
    "# plt.plot(std)\n",
    "plt.plot(spread)"
   ]
  },
  {
   "cell_type": "code",
   "execution_count": null,
   "id": "397bccd9",
   "metadata": {},
   "outputs": [],
   "source": [
    "# @@ Cell 112\n",
    "spread"
   ]
  },
  {
   "cell_type": "code",
   "execution_count": null,
   "id": "7e5cb087",
   "metadata": {},
   "outputs": [],
   "source": [
    "# @@ Cell 113\n",
    "spread[21]"
   ]
  },
  {
   "cell_type": "code",
   "execution_count": null,
   "id": "5dccc3c1",
   "metadata": {},
   "outputs": [],
   "source": [
    "# @@ Cell 114\n",
    "spread[20]"
   ]
  },
  {
   "cell_type": "code",
   "execution_count": null,
   "id": "cd562823",
   "metadata": {},
   "outputs": [],
   "source": [
    "# @@ Cell 115\n",
    "spread[21]"
   ]
  },
  {
   "cell_type": "code",
   "execution_count": null,
   "id": "9d89455d",
   "metadata": {},
   "outputs": [],
   "source": [
    "# @@ Cell 116\n",
    "results.keys()"
   ]
  },
  {
   "cell_type": "code",
   "execution_count": null,
   "id": "220e8774",
   "metadata": {},
   "outputs": [],
   "source": [
    "# @@ Cell 117\n",
    "results.keys()[21]"
   ]
  },
  {
   "cell_type": "code",
   "execution_count": null,
   "id": "7decbff4",
   "metadata": {},
   "outputs": [],
   "source": [
    "# @@ Cell 118\n",
    "results.keys()"
   ]
  },
  {
   "cell_type": "code",
   "execution_count": null,
   "id": "6c75aefd",
   "metadata": {},
   "outputs": [],
   "source": [
    "# @@ Cell 119\n",
    "list(results.keys())"
   ]
  },
  {
   "cell_type": "code",
   "execution_count": null,
   "id": "b81f8074",
   "metadata": {},
   "outputs": [],
   "source": [
    "# @@ Cell 120\n",
    "list(results.keys())[21]"
   ]
  },
  {
   "cell_type": "code",
   "execution_count": null,
   "id": "4584ea08",
   "metadata": {},
   "outputs": [],
   "source": [
    "# @@ Cell 121\n",
    "test = []\n",
    "for entry in results[BenchmarkMetricToFingerprintTriple]:\n",
    "    test.append(entry[2])"
   ]
  },
  {
   "cell_type": "code",
   "execution_count": null,
   "id": "948c7bd0",
   "metadata": {},
   "outputs": [],
   "source": [
    "# @@ Cell 122\n",
    "test = []\n",
    "for entry in results['BenchmarkMetricToFingerprintTriple']:\n",
    "    test.append(entry[2])"
   ]
  },
  {
   "cell_type": "code",
   "execution_count": null,
   "id": "9a7bbd24",
   "metadata": {},
   "outputs": [],
   "source": [
    "# @@ Cell 123\n",
    "test"
   ]
  },
  {
   "cell_type": "markdown",
   "id": "a7a88c2a",
   "metadata": {},
   "source": [
    "@@ Cell 124\n",
    "y = [x for x in range(len(std))]\n",
    "plt.plot(std)\n",
    "plt.plot(spread)"
   ]
  },
  {
   "cell_type": "code",
   "execution_count": null,
   "id": "416c5846",
   "metadata": {},
   "outputs": [],
   "source": [
    "# @@ Cell 125\n",
    "# y = [x for x in range(len(std))]\n",
    "plt.plot(std)\n",
    "# plt.plot(spread)"
   ]
  },
  {
   "cell_type": "code",
   "execution_count": null,
   "id": "4d1c7104",
   "metadata": {},
   "outputs": [],
   "source": [
    "# @@ Cell 126\n",
    "std = []\n",
    "spread = []\n",
    "for bench in results.keys():\n",
    "    x = []\n",
    "    for entry in results[bench]:\n",
    "        x.append(entry[2])\n",
    "    std.append(np.std(x))\n",
    "    spread.append(max_spread(x))\n",
    "    print(x)"
   ]
  },
  {
   "cell_type": "code",
   "execution_count": null,
   "id": "28b9c823",
   "metadata": {},
   "outputs": [],
   "source": [
    "# @@ Cell 127\n",
    "plt.boxplot(test)"
   ]
  },
  {
   "cell_type": "code",
   "execution_count": null,
   "id": "6cf3a271",
   "metadata": {},
   "outputs": [],
   "source": [
    "# @@ Cell 128\n",
    "plt.boxplot(test)\n",
    "plt.show()"
   ]
  },
  {
   "cell_type": "code",
   "execution_count": null,
   "id": "4ae6e6e6",
   "metadata": {},
   "outputs": [],
   "source": [
    "# @@ Cell 129\n",
    "# y = [x for x in range(len(std))]\n",
    "plt.plot(std)\n",
    "plt.plot(spread)"
   ]
  },
  {
   "cell_type": "code",
   "execution_count": null,
   "id": "1d2381dc",
   "metadata": {},
   "outputs": [],
   "source": [
    "# @@ Cell 130\n",
    "# y = [x for x in range(len(std))]\n",
    "# plt.plot(std)\n",
    "plt.plot(spread)"
   ]
  },
  {
   "cell_type": "code",
   "execution_count": null,
   "id": "51ed747d",
   "metadata": {},
   "outputs": [],
   "source": [
    "# @@ Cell 131\n",
    "spread[26]"
   ]
  },
  {
   "cell_type": "code",
   "execution_count": null,
   "id": "78d35be9",
   "metadata": {},
   "outputs": [],
   "source": [
    "# @@ Cell 132\n",
    "list(results.keys())[26]"
   ]
  },
  {
   "cell_type": "code",
   "execution_count": null,
   "id": "041b3d2e",
   "metadata": {},
   "outputs": [],
   "source": [
    "# @@ Cell 133\n",
    "test2 = []\n",
    "for entry in results['BenchmarkEmptyLabelSignature']:\n",
    "    test.append(entry[2])"
   ]
  },
  {
   "cell_type": "code",
   "execution_count": null,
   "id": "27c10232",
   "metadata": {},
   "outputs": [],
   "source": [
    "# @@ Cell 134\n",
    "test2"
   ]
  },
  {
   "cell_type": "code",
   "execution_count": null,
   "id": "f236cf58",
   "metadata": {},
   "outputs": [],
   "source": [
    "# @@ Cell 135\n",
    "test2 = []\n",
    "for entry in results['BenchmarkEmptyLabelSignature']:\n",
    "    tetest2st.append(entry[2])"
   ]
  },
  {
   "cell_type": "code",
   "execution_count": null,
   "id": "a6c87ffc",
   "metadata": {},
   "outputs": [],
   "source": [
    "# @@ Cell 136\n",
    "test2 = []\n",
    "for entry in results['BenchmarkEmptyLabelSignature']:\n",
    "    test2.append(entry[2])"
   ]
  },
  {
   "cell_type": "code",
   "execution_count": null,
   "id": "caf1c7e8",
   "metadata": {},
   "outputs": [],
   "source": [
    "# @@ Cell 137\n",
    "test2"
   ]
  },
  {
   "cell_type": "code",
   "execution_count": null,
   "id": "93b4be33",
   "metadata": {},
   "outputs": [],
   "source": [
    "# @@ Cell 138\n",
    "plt.boxplot(test2)\n",
    "plt.show()"
   ]
  },
  {
   "cell_type": "code",
   "execution_count": null,
   "id": "1b163ed1",
   "metadata": {},
   "outputs": [],
   "source": [
    "# @@ Cell 139\n",
    "for bench in results.keys():\n",
    "    x = []\n",
    "    for entry in results[bench]:\n",
    "        x.append(entry[2])\n",
    "    plt.boxplot(x)\n",
    "    # plt.show()"
   ]
  },
  {
   "cell_type": "code",
   "execution_count": null,
   "id": "459c2d20",
   "metadata": {},
   "outputs": [],
   "source": [
    "# @@ Cell 140\n",
    "for bench in results.keys():\n",
    "    x = []\n",
    "    for idx, entry in enumerate(results[bench]):\n",
    "        x.append(entry[2])\n",
    "    plt.boxplot(x,idx)\n",
    "    # plt.show()"
   ]
  },
  {
   "cell_type": "code",
   "execution_count": null,
   "id": "805ddac4",
   "metadata": {},
   "outputs": [],
   "source": [
    "# @@ Cell 141\n",
    "for idx, bench in enumerate(results.keys()):\n",
    "    x = []\n",
    "    for entry in results[bench]:\n",
    "        x.append(entry[2])\n",
    "    plt.boxplot(x, idx)\n",
    "    # plt.show()"
   ]
  },
  {
   "cell_type": "code",
   "execution_count": null,
   "id": "db660741",
   "metadata": {},
   "outputs": [],
   "source": [
    "# @@ Cell 142\n",
    "for idx, bench in enumerate(results.keys()):\n",
    "    print(ix)\n",
    "    x = []\n",
    "    for entry in results[bench]:\n",
    "        x.append(entry[2])\n",
    "    plt.boxplot(x, idx)\n",
    "    # plt.show()"
   ]
  },
  {
   "cell_type": "code",
   "execution_count": null,
   "id": "63891dea",
   "metadata": {},
   "outputs": [],
   "source": [
    "# @@ Cell 143\n",
    "for idx, bench in enumerate(results.keys()):\n",
    "    print(idx)\n",
    "    x = []\n",
    "    for entry in results[bench]:\n",
    "        x.append(entry[2])\n",
    "    plt.boxplot(x, idx)\n",
    "    # plt.show()"
   ]
  },
  {
   "cell_type": "code",
   "execution_count": null,
   "id": "013da7a7",
   "metadata": {},
   "outputs": [],
   "source": [
    "# @@ Cell 144\n",
    "for idx, bench in enumerate(results.keys()):\n",
    "    x = []\n",
    "    for entry in results[bench]:\n",
    "        x.append(entry[2])\n",
    "    plt.boxplot(x, idx)\n",
    "    # plt.show()"
   ]
  },
  {
   "cell_type": "code",
   "execution_count": null,
   "id": "f9611d7f",
   "metadata": {},
   "outputs": [],
   "source": [
    "# @@ Cell 145\n",
    "all = []\n",
    "for idx, bench in enumerate(results.keys()):\n",
    "    x = []\n",
    "    for entry in results[bench]:\n",
    "        x.append(entry[2])\n",
    "    all.append(x)\n",
    "plt.boxplot(all)\n",
    "plt.show()"
   ]
  },
  {
   "cell_type": "code",
   "execution_count": null,
   "id": "aa0bfcbd",
   "metadata": {},
   "outputs": [],
   "source": [
    "# @@ Cell 146\n",
    "all = []\n",
    "for idx, bench in enumerate(results.keys()):\n",
    "    x = []\n",
    "    for entry in results[bench]:\n",
    "        x.append(entry[2])\n",
    "    all.append(x)\n",
    "plt.boxplot(all[6.])\n",
    "plt.show()"
   ]
  },
  {
   "cell_type": "code",
   "execution_count": null,
   "id": "f91cd548",
   "metadata": {},
   "outputs": [],
   "source": [
    "# @@ Cell 147\n",
    "all = []\n",
    "for idx, bench in enumerate(results.keys()):\n",
    "    x = []\n",
    "    for entry in results[bench]:\n",
    "        x.append(entry[2])\n",
    "    all.append(x)"
   ]
  },
  {
   "cell_type": "code",
   "execution_count": null,
   "id": "d382ac5c",
   "metadata": {},
   "outputs": [],
   "source": [
    "plt.boxplot(all[6:])\n",
    "plt.show()"
   ]
  },
  {
   "cell_type": "code",
   "execution_count": null,
   "id": "a03dbf8b",
   "metadata": {},
   "outputs": [],
   "source": [
    "# @@ Cell 148\n",
    "all = []\n",
    "for idx, bench in enumerate(results.keys()):\n",
    "    x = []\n",
    "    for entry in results[bench]:\n",
    "        x.append(entry[2])\n",
    "    all.append(x)"
   ]
  },
  {
   "cell_type": "code",
   "execution_count": null,
   "id": "7e7a0907",
   "metadata": {},
   "outputs": [],
   "source": [
    "plt.boxplot(all[7:])\n",
    "plt.show()"
   ]
  },
  {
   "cell_type": "code",
   "execution_count": null,
   "id": "a0a57a44",
   "metadata": {},
   "outputs": [],
   "source": [
    "# @@ Cell 149\n",
    "all = []\n",
    "for idx, bench in enumerate(results.keys()):\n",
    "    x = []\n",
    "    for entry in results[bench]:\n",
    "        x.append(entry[2])\n",
    "    all.append(x)"
   ]
  },
  {
   "cell_type": "code",
   "execution_count": null,
   "id": "25d9f34d",
   "metadata": {},
   "outputs": [],
   "source": [
    "plt.boxplot(all[8:])\n",
    "plt.show()"
   ]
  },
  {
   "cell_type": "code",
   "execution_count": null,
   "id": "0d799cda",
   "metadata": {},
   "outputs": [],
   "source": [
    "# @@ Cell 150\n",
    "all = []\n",
    "for idx, bench in enumerate(results.keys()):\n",
    "    x = []\n",
    "    for entry in results[bench]:\n",
    "        x.append(entry[2])\n",
    "    all.append(x)"
   ]
  },
  {
   "cell_type": "code",
   "execution_count": null,
   "id": "b1b1c6e9",
   "metadata": {},
   "outputs": [],
   "source": [
    "plt.boxplot(all[10:])\n",
    "plt.show()"
   ]
  },
  {
   "cell_type": "code",
   "execution_count": null,
   "id": "260abfdc",
   "metadata": {},
   "outputs": [],
   "source": [
    "# @@ Cell 151\n",
    "all = []\n",
    "for idx, bench in enumerate(results.keys()):\n",
    "    x = []\n",
    "    for entry in results[bench]:\n",
    "        x.append(entry[2])\n",
    "    all.append(x - np-mean(x))"
   ]
  },
  {
   "cell_type": "code",
   "execution_count": null,
   "id": "a7270781",
   "metadata": {},
   "outputs": [],
   "source": [
    "plt.boxplot(all[10:])\n",
    "plt.show()"
   ]
  },
  {
   "cell_type": "code",
   "execution_count": null,
   "id": "9ba63a2b",
   "metadata": {},
   "outputs": [],
   "source": [
    "# @@ Cell 152\n",
    "all = []\n",
    "for idx, bench in enumerate(results.keys()):\n",
    "    x = []\n",
    "    for entry in results[bench]:\n",
    "        x.append(entry[2])\n",
    "    all.append(x - np.mean(x))"
   ]
  },
  {
   "cell_type": "code",
   "execution_count": null,
   "id": "7aef1182",
   "metadata": {},
   "outputs": [],
   "source": [
    "plt.boxplot(all[10:])\n",
    "plt.show()"
   ]
  },
  {
   "cell_type": "code",
   "execution_count": null,
   "id": "185b00ed",
   "metadata": {},
   "outputs": [],
   "source": [
    "# @@ Cell 153\n",
    "all = []\n",
    "for idx, bench in enumerate(results.keys()):\n",
    "    x = []\n",
    "    for entry in results[bench]:\n",
    "        x.append(entry[2])\n",
    "    all.append(x - np.mean(x))"
   ]
  },
  {
   "cell_type": "code",
   "execution_count": null,
   "id": "a13614dc",
   "metadata": {},
   "outputs": [],
   "source": [
    "plt.boxplot()\n",
    "plt.show()"
   ]
  },
  {
   "cell_type": "code",
   "execution_count": null,
   "id": "4e104751",
   "metadata": {},
   "outputs": [],
   "source": [
    "# @@ Cell 154\n",
    "all = []\n",
    "for idx, bench in enumerate(results.keys()):\n",
    "    x = []\n",
    "    for entry in results[bench]:\n",
    "        x.append(entry[2])\n",
    "    all.append(x - np.mean(x))"
   ]
  },
  {
   "cell_type": "code",
   "execution_count": null,
   "id": "dc0d43db",
   "metadata": {},
   "outputs": [],
   "source": [
    "plt.boxplot()\n",
    "plt.show()"
   ]
  },
  {
   "cell_type": "code",
   "execution_count": null,
   "id": "6d752ead",
   "metadata": {},
   "outputs": [],
   "source": [
    "# @@ Cell 155\n",
    "all = []\n",
    "for idx, bench in enumerate(results.keys()):\n",
    "    x = []\n",
    "    for entry in results[bench]:\n",
    "        x.append(entry[2])\n",
    "    all.append(x - np.mean(x))"
   ]
  },
  {
   "cell_type": "code",
   "execution_count": null,
   "id": "9a088578",
   "metadata": {},
   "outputs": [],
   "source": [
    "plt.boxplot(all)\n",
    "plt.show()"
   ]
  },
  {
   "cell_type": "code",
   "execution_count": null,
   "id": "e53c7232",
   "metadata": {},
   "outputs": [],
   "source": [
    "# @@ Cell 156\n",
    "plt.figure(figsize=(20, 100), dpi=80)\n",
    "all = []\n",
    "for idx, bench in enumerate(results.keys()):\n",
    "    x = []\n",
    "    for entry in results[bench]:\n",
    "        x.append(entry[2])\n",
    "    all.append(x - np.mean(x))"
   ]
  },
  {
   "cell_type": "code",
   "execution_count": null,
   "id": "7d2d8594",
   "metadata": {},
   "outputs": [],
   "source": [
    "plt.boxplot(all)\n",
    "plt.show()"
   ]
  },
  {
   "cell_type": "code",
   "execution_count": null,
   "id": "f7ea70a0",
   "metadata": {},
   "outputs": [],
   "source": [
    "# @@ Cell 157\n",
    "plt.figure(figsize=(20, 10), dpi=80)\n",
    "all = []\n",
    "for idx, bench in enumerate(results.keys()):\n",
    "    x = []\n",
    "    for entry in results[bench]:\n",
    "        x.append(entry[2])\n",
    "    all.append(x - np.mean(x))"
   ]
  },
  {
   "cell_type": "code",
   "execution_count": null,
   "id": "80bc2fd5",
   "metadata": {},
   "outputs": [],
   "source": [
    "plt.boxplot(all)\n",
    "plt.show()"
   ]
  },
  {
   "cell_type": "code",
   "execution_count": null,
   "id": "3ba0c93c",
   "metadata": {},
   "outputs": [],
   "source": [
    "# @@ Cell 158\n",
    "plt.figure(figsize=(20, 10), dpi=80)\n",
    "all = []\n",
    "for idx, bench in enumerate(results.keys()):\n",
    "    x = []\n",
    "    for entry in results[bench]:\n",
    "        x.append(entry[2])\n",
    "    all.append(np.log(x - np.mean(x)))"
   ]
  },
  {
   "cell_type": "code",
   "execution_count": null,
   "id": "85350523",
   "metadata": {},
   "outputs": [],
   "source": [
    "plt.boxplot(all)\n",
    "plt.show()"
   ]
  },
  {
   "cell_type": "code",
   "execution_count": null,
   "id": "7d18ed63",
   "metadata": {},
   "outputs": [],
   "source": [
    "# @@ Cell 159\n",
    "plt.figure(figsize=(20, 10), dpi=80)\n",
    "all = []\n",
    "for idx, bench in enumerate(results.keys()):\n",
    "    x = []\n",
    "    for entry in results[bench]:\n",
    "        x.append(entry[2])\n",
    "    all.append(x - np.mean(x))"
   ]
  },
  {
   "cell_type": "code",
   "execution_count": null,
   "id": "8b22694f",
   "metadata": {},
   "outputs": [],
   "source": [
    "plt.boxplot(all)\n",
    "plt.show()"
   ]
  },
  {
   "cell_type": "code",
   "execution_count": null,
   "id": "6107c036",
   "metadata": {},
   "outputs": [],
   "source": [
    "# @@ Cell 160\n",
    "plt.figure(figsize=(20, 10), dpi=80)\n",
    "all = []\n",
    "for idx, bench in enumerate(results.keys()):\n",
    "    x = []\n",
    "    for entry in results[bench]:\n",
    "        x.append(np.log(entry[2])\n",
    "    all.append(x - np.mean(x))"
   ]
  },
  {
   "cell_type": "code",
   "execution_count": null,
   "id": "ad654993",
   "metadata": {},
   "outputs": [],
   "source": [
    "plt.boxplot(all)\n",
    "plt.show()"
   ]
  },
  {
   "cell_type": "code",
   "execution_count": null,
   "id": "33b285be",
   "metadata": {},
   "outputs": [],
   "source": [
    "# @@ Cell 161\n",
    "plt.figure(figsize=(20, 10), dpi=80)\n",
    "all = []\n",
    "for idx, bench in enumerate(results.keys()):\n",
    "    x = []\n",
    "    for entry in results[bench]:\n",
    "        x.append(np.log(entry[2]))\n",
    "    all.append(x - np.mean(x))"
   ]
  },
  {
   "cell_type": "code",
   "execution_count": null,
   "id": "b1c3176e",
   "metadata": {},
   "outputs": [],
   "source": [
    "plt.boxplot(all)\n",
    "plt.show()"
   ]
  },
  {
   "cell_type": "code",
   "execution_count": null,
   "id": "7049a38c",
   "metadata": {},
   "outputs": [],
   "source": [
    "# @@ Cell 162\n",
    "plt.figure(figsize=(20, 10), dpi=80)\n",
    "all = []\n",
    "for idx, bench in enumerate(results.keys()):\n",
    "    x = []\n",
    "    for entry in results[bench]:\n",
    "        x.append(np.log(entry[2]))\n",
    "    all.append(x) #  - np.mean(x))"
   ]
  },
  {
   "cell_type": "code",
   "execution_count": null,
   "id": "73d5a9ae",
   "metadata": {},
   "outputs": [],
   "source": [
    "plt.boxplot(all)\n",
    "plt.show()"
   ]
  },
  {
   "cell_type": "code",
   "execution_count": null,
   "id": "35242753",
   "metadata": {},
   "outputs": [],
   "source": [
    "# @@ Cell 163\n",
    "plt.figure(figsize=(20, 10), dpi=80)\n",
    "all = []\n",
    "for idx, bench in enumerate(results.keys()):\n",
    "    x = []\n",
    "    for entry in results[bench]:\n",
    "        x.append(np.log(entry[2]))\n",
    "    all.append(x - np.mean(x))"
   ]
  },
  {
   "cell_type": "code",
   "execution_count": null,
   "id": "17596b4a",
   "metadata": {},
   "outputs": [],
   "source": [
    "plt.boxplot(all)\n",
    "plt.show()"
   ]
  },
  {
   "cell_type": "code",
   "execution_count": null,
   "id": "928b21e8",
   "metadata": {},
   "outputs": [],
   "source": [
    "# @@ Cell 164\n",
    "plt.figure(figsize=(20, 10), dpi=80)\n",
    "sub = all\n",
    "sub.pop(22)\n",
    "sub.pop(27)"
   ]
  },
  {
   "cell_type": "code",
   "execution_count": null,
   "id": "f1d0acd2",
   "metadata": {},
   "outputs": [],
   "source": [
    "plt.boxplot(sub)\n",
    "plt.show()"
   ]
  },
  {
   "cell_type": "code",
   "execution_count": null,
   "id": "e9b6c963",
   "metadata": {},
   "outputs": [],
   "source": [
    "# @@ Cell 165\n",
    "plt.figure(figsize=(20, 10), dpi=80)\n",
    "all = []\n",
    "for idx, bench in enumerate(results.keys()):\n",
    "    x = []\n",
    "    for entry in results[bench]:\n",
    "        x.append(np.log(entry[2]))\n",
    "    all.append(x - np.mean(x))"
   ]
  },
  {
   "cell_type": "code",
   "execution_count": null,
   "id": "76141691",
   "metadata": {},
   "outputs": [],
   "source": [
    "plt.boxplot(all)\n",
    "plt.show()"
   ]
  },
  {
   "cell_type": "code",
   "execution_count": null,
   "id": "cc79c087",
   "metadata": {},
   "outputs": [],
   "source": [
    "# @@ Cell 166\n",
    "plt.figure(figsize=(20, 10), dpi=80)\n",
    "sub = all\n",
    "sub.pop(21)\n",
    "sub.pop(25)"
   ]
  },
  {
   "cell_type": "code",
   "execution_count": null,
   "id": "d05f0b06",
   "metadata": {},
   "outputs": [],
   "source": [
    "plt.boxplot(sub)\n",
    "plt.show()"
   ]
  },
  {
   "cell_type": "code",
   "execution_count": null,
   "id": "3f28f074",
   "metadata": {},
   "outputs": [],
   "source": [
    "# @@ Cell 167\n",
    "fullGraph = nx.Graph()"
   ]
  },
  {
   "cell_type": "code",
   "execution_count": null,
   "id": "61d59651",
   "metadata": {},
   "outputs": [],
   "source": [
    "# @@ Cell 168\n",
    "# Plot all graphs in the same layout\n",
    "plt.figure(figsize=(20, 100), dpi=80)\n",
    "for dotFile in dotFiles:\n",
    "    graph = read_dot(dotFile)\n",
    "    graph = convertWeigthsToFloat(graph)\n",
    "    nx.compose(fullGraph,graph)\n",
    "    pos = graphviz_layout(graph, prog='dot')\n",
    "    nx.draw(graph, pos, with_labels=False, arrows=True)\n",
    "    plt.show()"
   ]
  },
  {
   "cell_type": "code",
   "execution_count": null,
   "id": "775ad110",
   "metadata": {},
   "outputs": [],
   "source": [
    "# @@ Cell 169\n",
    "# Plot all graphs in the same layout\n",
    "plt.figure(figsize=(20, 100), dpi=80)\n",
    "for dotFile in dotFiles:\n",
    "    graph = read_dot(dotFile)\n",
    "    graph = convertWeigthsToFloat(graph)\n",
    "    nx.compose(fullGraph, graph)\n",
    "    pos = graphviz_layout(graph, prog='dot')\n",
    "    nx.draw(graph, pos, with_labels=False, arrows=True)\n",
    "    plt.show()"
   ]
  },
  {
   "cell_type": "code",
   "execution_count": null,
   "id": "b1893275",
   "metadata": {},
   "outputs": [],
   "source": [
    "# @@ Cell 170\n",
    "fullGraph = nx.multiGraph()"
   ]
  },
  {
   "cell_type": "code",
   "execution_count": null,
   "id": "39df2f52",
   "metadata": {},
   "outputs": [],
   "source": [
    "# @@ Cell 171\n",
    "fullGraph = nx.MultiGraph()"
   ]
  },
  {
   "cell_type": "code",
   "execution_count": null,
   "id": "81ab0f4b",
   "metadata": {},
   "outputs": [],
   "source": [
    "# @@ Cell 172\n",
    "# Plot all graphs in the same layout\n",
    "plt.figure(figsize=(20, 100), dpi=80)\n",
    "for dotFile in dotFiles:\n",
    "    graph = read_dot(dotFile)\n",
    "    graph = convertWeigthsToFloat(graph)\n",
    "    nx.compose(fullGraph, graph)\n",
    "    pos = graphviz_layout(graph, prog='dot')\n",
    "    nx.draw(graph, pos, with_labels=False, arrows=True)\n",
    "    plt.show()"
   ]
  },
  {
   "cell_type": "code",
   "execution_count": null,
   "id": "6d2ebad8",
   "metadata": {},
   "outputs": [],
   "source": [
    "# @@ Cell 173\n",
    "fullGraph = nx.MultiGraph()"
   ]
  },
  {
   "cell_type": "code",
   "execution_count": null,
   "id": "4afeefd5",
   "metadata": {},
   "outputs": [],
   "source": [
    "# @@ Cell 174\n",
    "# Plot all graphs in the same layout\n",
    "plt.figure(figsize=(20, 100), dpi=80)\n",
    "for dotFile in dotFiles:\n",
    "    graph = read_dot(dotFile)\n",
    "    graph = convertWeigthsToFloat(graph)\n",
    "    nx.compose(fullGraph, graph)\n",
    "    pos = graphviz_layout(graph, prog='dot')\n",
    "    nx.draw(graph, pos, with_labels=False, arrows=True)\n",
    "plt.show()"
   ]
  },
  {
   "cell_type": "code",
   "execution_count": null,
   "id": "36a767cb",
   "metadata": {},
   "outputs": [],
   "source": [
    "# @@ Cell 175\n",
    "nx.draw(fullGraph, pos, with_labels=False, arrows=True)"
   ]
  },
  {
   "cell_type": "code",
   "execution_count": null,
   "id": "940fbc7a",
   "metadata": {},
   "outputs": [],
   "source": [
    "# @@ Cell 176\n",
    "plt.figure(figsize=(20, 100), dpi=80)\n",
    "nx.draw(fullGraph, pos, with_labels=False, arrows=True)"
   ]
  },
  {
   "cell_type": "code",
   "execution_count": null,
   "id": "7ebe5947",
   "metadata": {},
   "outputs": [],
   "source": [
    "# @@ Cell 177\n",
    "plt.figure(figsize=(20, 100), dpi=80)\n",
    "pos = graphviz_layout(fullGraph, prog='dot')\n",
    "nx.draw(fullGraph, pos, with_labels=False, arrows=True)\n",
    "plt.show()"
   ]
  },
  {
   "cell_type": "code",
   "execution_count": null,
   "id": "f6a53e0c",
   "metadata": {},
   "outputs": [],
   "source": [
    "# @@ Cell 178\n",
    "fullGraph"
   ]
  },
  {
   "cell_type": "code",
   "execution_count": null,
   "id": "1bec61c6",
   "metadata": {},
   "outputs": [],
   "source": [
    "# @@ Cell 179\n",
    "fullGraph.edges()"
   ]
  },
  {
   "cell_type": "code",
   "execution_count": null,
   "id": "388c3324",
   "metadata": {},
   "outputs": [],
   "source": [
    "# @@ Cell 180\n",
    "fullGraph.nodes()"
   ]
  },
  {
   "cell_type": "code",
   "execution_count": null,
   "id": "1e14ace8",
   "metadata": {},
   "outputs": [],
   "source": [
    "# @@ Cell 181\n",
    "graph.nodes()"
   ]
  },
  {
   "cell_type": "code",
   "execution_count": null,
   "id": "55af0c9d",
   "metadata": {},
   "outputs": [],
   "source": [
    "# @@ Cell 182\n",
    "for dotFile in dotFiles:\n",
    "    graph = read_dot(dotFile)\n",
    "    graph = convertWeigthsToFloat(graph)\n",
    "    print(graph.nodes())"
   ]
  },
  {
   "cell_type": "code",
   "execution_count": null,
   "id": "a6bc055c",
   "metadata": {},
   "outputs": [],
   "source": [
    "# @@ Cell 183\n",
    "allnodes = set()\n",
    "for dotFile in dotFiles:\n",
    "    graph = read_dot(dotFile)\n",
    "    graph = convertWeigthsToFloat(graph)\n",
    "    allnodes = allnodes.union(set(graph.nodes()))"
   ]
  },
  {
   "cell_type": "code",
   "execution_count": null,
   "id": "b4300143",
   "metadata": {},
   "outputs": [],
   "source": [
    "# @@ Cell 184\n",
    "allnodes.nodes()"
   ]
  },
  {
   "cell_type": "code",
   "execution_count": null,
   "id": "1d1ed1ac",
   "metadata": {},
   "outputs": [],
   "source": [
    "# @@ Cell 185\n",
    "allnodes"
   ]
  },
  {
   "cell_type": "code",
   "execution_count": null,
   "id": "e12bed12",
   "metadata": {},
   "outputs": [],
   "source": [
    "# @@ Cell 186\n",
    "coverage = {}\n",
    "for dotFile in dotFiles:\n",
    "    graph = read_dot(dotFile)\n",
    "    graph = convertWeigthsToFloat(graph)\n",
    "    coverage[dotFile] = (len(graph.nodes())/len(allnodes)) * 100"
   ]
  },
  {
   "cell_type": "code",
   "execution_count": null,
   "id": "242d49c9",
   "metadata": {},
   "outputs": [],
   "source": [
    "# @@ Cell 187\n",
    "coverage"
   ]
  },
  {
   "cell_type": "code",
   "execution_count": null,
   "id": "ef20842b",
   "metadata": {},
   "outputs": [],
   "source": [
    "# @@ Cell 188\n",
    "coverage = {}\n",
    "for dotFile in dotFiles:\n",
    "    graph = read_dot(dotFile)\n",
    "    graph = convertWeigthsToFloat(graph)\n",
    "    name = dotFile.split(\"/\")[-1].split(\".\")[0]\n",
    "    coverage[name] = (len(graph.nodes())/len(allnodes)) * 100"
   ]
  },
  {
   "cell_type": "code",
   "execution_count": null,
   "id": "407b448a",
   "metadata": {},
   "outputs": [],
   "source": [
    "# @@ Cell 189\n",
    "coverage"
   ]
  },
  {
   "cell_type": "code",
   "execution_count": null,
   "id": "4aeccf7f",
   "metadata": {},
   "outputs": [],
   "source": [
    "# @@ Cell 190\n",
    "coverage"
   ]
  },
  {
   "cell_type": "code",
   "execution_count": null,
   "id": "37e644d0",
   "metadata": {},
   "outputs": [],
   "source": [
    "# @@ Cell 191\n",
    "len(allnodes.nodes())"
   ]
  },
  {
   "cell_type": "code",
   "execution_count": null,
   "id": "7db56f8e",
   "metadata": {},
   "outputs": [],
   "source": [
    "# @@ Cell 192\n",
    "len(allnodes)"
   ]
  },
  {
   "cell_type": "code",
   "execution_count": null,
   "id": "0482306c",
   "metadata": {},
   "outputs": [],
   "source": [
    "# @@ Cell 193\n",
    "std = []\n",
    "for bench in results.keys():\n",
    "    x = []\n",
    "    for entry in results[bench]:\n",
    "        x.append(entry[2])\n",
    "    # plt.plot(x)\n",
    "    std.append(np.std(x))\n",
    "    # plt.axhline(y=np.std(x), linestyle='-')\n",
    "plt.plot(std)\n",
    "plt.show()"
   ]
  },
  {
   "cell_type": "code",
   "execution_count": null,
   "id": "88e0d103",
   "metadata": {},
   "outputs": [],
   "source": [
    "# @@ Cell 194\n",
    "std = []\n",
    "for bench in results.keys():\n",
    "    x = []\n",
    "    for entry in results[bench]:\n",
    "        x.append(entry[2])\n",
    "    # plt.plot(x)\n",
    "    std.append(np.std(x))\n",
    "    # plt.axhline(y=np.std(x), linestyle='-')\n",
    "plt.scatter(std)\n",
    "plt.show()"
   ]
  },
  {
   "cell_type": "code",
   "execution_count": null,
   "id": "a73b819d",
   "metadata": {},
   "outputs": [],
   "source": [
    "# @@ Cell 195\n",
    "std = []\n",
    "for bench in results.keys():\n",
    "    x = []\n",
    "    for entry in results[bench]:\n",
    "        x.append(entry[2])\n",
    "    # plt.plot(x)\n",
    "    std.append(np.std(x))\n",
    "    # plt.axhline(y=np.std(x), linestyle='-')\n",
    "plt.scatter(std, [x for x in range(len(results.keys()))])\n",
    "plt.show()"
   ]
  },
  {
   "cell_type": "code",
   "execution_count": null,
   "id": "01709ed6",
   "metadata": {},
   "outputs": [],
   "source": [
    "# @@ Cell 196\n",
    "std = []\n",
    "for bench in results.keys():\n",
    "    x = []\n",
    "    for entry in results[bench]:\n",
    "        x.append(entry[2])\n",
    "    # plt.plot(x)\n",
    "    std.append(np.std(x))\n",
    "    # plt.axhline(y=np.std(x), linestyle='-')\n",
    "plt.scatter([x for x in range(len(results.keys()))], std)\n",
    "plt.show()"
   ]
  },
  {
   "cell_type": "code",
   "execution_count": null,
   "id": "bd966d83",
   "metadata": {},
   "outputs": [],
   "source": [
    "# @@ Cell 197\n",
    "plt.figure(figsize=(20, 10), dpi=80)\n",
    "std = []\n",
    "for bench in results.keys():\n",
    "    x = []\n",
    "    for entry in results[bench]:\n",
    "        x.append(entry[2])\n",
    "    # plt.plot(x)\n",
    "    std.append(np.std(x))\n",
    "    # plt.axhline(y=np.std(x), linestyle='-')\n",
    "plt.scatter([x for x in range(len(results.keys()))], std)\n",
    "plt.show()"
   ]
  },
  {
   "cell_type": "code",
   "execution_count": null,
   "id": "79836ac7",
   "metadata": {},
   "outputs": [],
   "source": [
    "# @@ Cell 198\n",
    "a = [10, 20, 30, 40 , 50]\n",
    "b = [100, 200, 300, 400 , 500]"
   ]
  },
  {
   "cell_type": "code",
   "execution_count": null,
   "id": "29c3f4e2",
   "metadata": {},
   "outputs": [],
   "source": [
    "print(np.std(a))\n",
    "print(np.std(b))"
   ]
  },
  {
   "cell_type": "code",
   "execution_count": null,
   "id": "e45129ba",
   "metadata": {},
   "outputs": [],
   "source": [
    "# @@ Cell 199\n",
    "plt.figure(figsize=(20, 10), dpi=80)\n",
    "std = []\n",
    "for bench in results.keys():\n",
    "    x = []\n",
    "    for entry in results[bench]:\n",
    "        x.append(entry[2])\n",
    "    # plt.plot(x)\n",
    "    std.append(np.std(x))\n",
    "    # plt.axhline(y=np.std(x), linestyle='-')\n",
    "plt.title(\"Standart Deviation\")\n",
    "plt.scatter([x for x in range(len(results.keys()))], std)\n",
    "plt.show()"
   ]
  },
  {
   "cell_type": "code",
   "execution_count": null,
   "id": "3187d8d6",
   "metadata": {},
   "outputs": [],
   "source": [
    "# @@ Cell 200\n",
    "plt.figure(figsize=(20, 10), dpi=80)\n",
    "std = []\n",
    "for bench in results.keys():\n",
    "    x = []\n",
    "    for entry in results[bench]:\n",
    "        x.append(entry[2])\n",
    "    # plt.plot(x)\n",
    "    std.append(np.std(x))\n",
    "    # plt.axhline(y=np.std(x), linestyle='-')\n",
    "plt.title(\"Standart Deviation\")\n",
    "plt.ylabel(\"standard deviation\")\n",
    "plt.xlabel(\"benchmark index\")\n",
    "plt.scatter([x for x in range(len(results.keys()))], std)\n",
    "plt.show()"
   ]
  },
  {
   "cell_type": "code",
   "execution_count": null,
   "id": "1f295ebc",
   "metadata": {},
   "outputs": [],
   "source": [
    "# @@ Cell 201\n",
    "fig, ax = plt.subplots()\n",
    "plt.figure(figsize=(20, 10), dpi=80)\n",
    "std = []\n",
    "for bench in results.keys():\n",
    "    x = []\n",
    "    for entry in results[bench]:\n",
    "        x.append(entry[2])\n",
    "    # plt.plot(x)\n",
    "    std.append(np.std(x))\n",
    "    # plt.axhline(y=np.std(x), linestyle='-')\n",
    "plt.title(\"Standart Deviation\")\n",
    "plt.ylabel(\"standard deviation\")\n",
    "plt.xlabel(\"benchmark index\")\n",
    "plt.scatter([x for x in range(len(results.keys()))], std)\n",
    "ax.set_xticklabels(labels)\n",
    "plt.show()"
   ]
  },
  {
   "cell_type": "code",
   "execution_count": null,
   "id": "0c75d856",
   "metadata": {},
   "outputs": [],
   "source": [
    "# @@ Cell 202\n",
    "fig, ax = plt.subplots()\n",
    "plt.figure(figsize=(20, 10), dpi=80)\n",
    "std = []\n",
    "for bench in results.keys():\n",
    "    x = []\n",
    "    for entry in results[bench]:\n",
    "        x.append(entry[2])\n",
    "    # plt.plot(x)\n",
    "    std.append(np.std(x))\n",
    "    # plt.axhline(y=np.std(x), linestyle='-')\n",
    "plt.title(\"Standart Deviation\")\n",
    "plt.ylabel(\"standard deviation\")\n",
    "plt.xlabel(\"benchmark index\")\n",
    "plt.scatter([x for x in range(len(results.keys()))], std)\n",
    "ax.set_xticklabels(results.keys())\n",
    "plt.show()"
   ]
  },
  {
   "cell_type": "code",
   "execution_count": null,
   "id": "3df78561",
   "metadata": {},
   "outputs": [],
   "source": [
    "# @@ Cell 203\n",
    "fig, ax = plt.subplots()\n",
    "std = []\n",
    "for bench in results.keys():\n",
    "    x = []\n",
    "    for entry in results[bench]:\n",
    "        x.append(entry[2])\n",
    "    # plt.plot(x)\n",
    "    std.append(np.std(x))\n",
    "    # plt.axhline(y=np.std(x), linestyle='-')\n",
    "plt.title(\"Standart Deviation\")\n",
    "plt.ylabel(\"standard deviation\")\n",
    "plt.xlabel(\"benchmark index\")\n",
    "plt.scatter([x for x in range(len(results.keys()))], std)\n",
    "ax.set_xticklabels(results.keys())\n",
    "plt.show()"
   ]
  },
  {
   "cell_type": "code",
   "execution_count": null,
   "id": "dc74aa30",
   "metadata": {},
   "outputs": [],
   "source": [
    "# @@ Cell 204\n",
    "fig, ax = plt.subplots()\n",
    "std = []\n",
    "for bench in results.keys():\n",
    "    x = []\n",
    "    for entry in results[bench]:\n",
    "        x.append(entry[2])\n",
    "    # plt.plot(x)\n",
    "    std.append(np.std(x))\n",
    "    # plt.axhline(y=np.std(x), linestyle='-')\n",
    "plt.title(\"Standart Deviation\")\n",
    "plt.ylabel(\"standard deviation\")\n",
    "plt.xlabel(\"benchmark index\")\n",
    "plt.scatter([x for x in range(len(results.keys()))], std)\n",
    "labels = results.keys()\n",
    "ax.set_xticklabels(labels)\n",
    "plt.show()"
   ]
  },
  {
   "cell_type": "code",
   "execution_count": null,
   "id": "3a61bb82",
   "metadata": {},
   "outputs": [],
   "source": [
    "# @@ Cell 205\n",
    "plt.figure(figsize=(20, 10), dpi=80)\n",
    "std = []\n",
    "for bench in results.keys():\n",
    "    x = []\n",
    "    for entry in results[bench]:\n",
    "        x.append(entry[2])\n",
    "    # plt.plot(x)\n",
    "    std.append(np.std(x))\n",
    "    # plt.axhline(y=np.std(x), linestyle='-')\n",
    "plt.title(\"Standart Deviation\")\n",
    "plt.ylabel(\"standard deviation\")\n",
    "plt.xlabel(\"benchmark index\")\n",
    "ax = plt.scatter([x for x in range(len(results.keys()))], std)\n",
    "ax.set_xticklabels(results.keys())\n",
    "plt.show()"
   ]
  },
  {
   "cell_type": "code",
   "execution_count": null,
   "id": "e16925f7",
   "metadata": {},
   "outputs": [],
   "source": [
    "# @@ Cell 206\n",
    "fig, ax = plt.subplots()\n",
    "#plt.figure(figsize=(20, 10), dpi=80)\n",
    "std = []\n",
    "for bench in results.keys():\n",
    "    x = []\n",
    "    for entry in results[bench]:\n",
    "        x.append(entry[2])\n",
    "    # plt.plot(x)\n",
    "    std.append(np.std(x))\n",
    "    # plt.axhline(y=np.std(x), linestyle='-')\n",
    "ax.title(\"Standart Deviation\")\n",
    "ax.ylabel(\"standard deviation\")\n",
    "ax.xlabel(\"benchmark index\")\n",
    "plt.scatter([x for x in range(len(results.keys()))], std)\n",
    "ax.set_xticklabels(results.keys())\n",
    "plt.show()"
   ]
  },
  {
   "cell_type": "code",
   "execution_count": null,
   "id": "0d2848e6",
   "metadata": {},
   "outputs": [],
   "source": [
    "# @@ Cell 207\n",
    "fig, ax = plt.subplots()\n",
    "#plt.figure(figsize=(20, 10), dpi=80)\n",
    "std = []\n",
    "for bench in results.keys():\n",
    "    x = []\n",
    "    for entry in results[bench]:\n",
    "        x.append(entry[2])\n",
    "    # plt.plot(x)\n",
    "    std.append(np.std(x))\n",
    "    # plt.axhline(y=np.std(x), linestyle='-')\n",
    "plt.title(\"Standart Deviation\")\n",
    "ax.ylabel(\"standard deviation\")\n",
    "ax.xlabel(\"benchmark index\")\n",
    "plt.scatter([x for x in range(len(results.keys()))], std)\n",
    "ax.set_xticklabels(results.keys())\n",
    "plt.show()"
   ]
  },
  {
   "cell_type": "code",
   "execution_count": null,
   "id": "13957a7a",
   "metadata": {},
   "outputs": [],
   "source": [
    "# @@ Cell 208\n",
    "fig, ax = plt.subplots()\n",
    "#plt.figure(figsize=(20, 10), dpi=80)\n",
    "std = []\n",
    "for bench in results.keys():\n",
    "    x = []\n",
    "    for entry in results[bench]:\n",
    "        x.append(entry[2])\n",
    "    # plt.plot(x)\n",
    "    std.append(np.std(x))\n",
    "    # plt.axhline(y=np.std(x), linestyle='-')\n",
    "plt.title(\"Standart Deviation\")\n",
    "plt.ylabel(\"standard deviation\")\n",
    "plt.xlabel(\"benchmark index\")\n",
    "plt.scatter([x for x in range(len(results.keys()))], std)\n",
    "ax.set_xticklabels(results.keys())\n",
    "plt.show()"
   ]
  },
  {
   "cell_type": "code",
   "execution_count": null,
   "id": "65a74373",
   "metadata": {},
   "outputs": [],
   "source": [
    "# @@ Cell 209\n",
    "get_ipython().run_line_magic('pip', 'install --upgrade matplotlib')"
   ]
  },
  {
   "cell_type": "code",
   "execution_count": null,
   "id": "cff04ae0",
   "metadata": {},
   "outputs": [],
   "source": [
    "# @@ Cell 210\n",
    "fig, ax = plt.subplots(figsize=(20, 10))\n",
    "#plt.figure(figsize=(20, 10), dpi=80)\n",
    "std = []\n",
    "for bench in results.keys():\n",
    "    x = []\n",
    "    for entry in results[bench]:\n",
    "        x.append(entry[2])\n",
    "    # plt.plot(x)\n",
    "    std.append(np.std(x))\n",
    "    # plt.axhline(y=np.std(x), linestyle='-')\n",
    "plt.title(\"Standart Deviation\")\n",
    "plt.ylabel(\"standard deviation\")\n",
    "plt.xlabel(\"benchmark index\")\n",
    "plt.scatter([x for x in range(len(results.keys()))], std)\n",
    "ax.set_xticklabels(results.keys())\n",
    "plt.show()"
   ]
  },
  {
   "cell_type": "code",
   "execution_count": null,
   "id": "0aae1775",
   "metadata": {},
   "outputs": [],
   "source": [
    "# @@ Cell 211\n",
    "fig, ax = plt.subplots(figsize=(20, 10))\n",
    "#plt.figure(figsize=(20, 10), dpi=80)\n",
    "std = []\n",
    "for bench in results.keys():\n",
    "    x = []\n",
    "    for entry in results[bench]:\n",
    "        x.append(entry[2])\n",
    "    # plt.plot(x)\n",
    "    std.append(np.std(x))\n",
    "    # plt.axhline(y=np.std(x), linestyle='-')\n",
    "plt.title(\"Standart Deviation\")\n",
    "plt.ylabel(\"standard deviation\")\n",
    "plt.xlabel(\"benchmark index\")\n",
    "plt.scatter([x for x in range(len(results.keys()))], std)\n",
    "ax.set_xticklabels(results.keys())\n",
    "plt.show()"
   ]
  },
  {
   "cell_type": "code",
   "execution_count": null,
   "id": "9713fe02",
   "metadata": {},
   "outputs": [],
   "source": [
    "# @@ Cell 212\n",
    "fig, ax = plt.subplots(figsize=(20, 10))\n",
    "#plt.figure(figsize=(20, 10), dpi=80)\n",
    "std = []\n",
    "for bench in results.keys():\n",
    "    x = []\n",
    "    for entry in results[bench]:\n",
    "        x.append(entry[2])\n",
    "    # plt.plot(x)\n",
    "    std.append(np.std(x))\n",
    "    # plt.axhline(y=np.std(x), linestyle='-')"
   ]
  },
  {
   "cell_type": "code",
   "execution_count": null,
   "id": "dfc4c317",
   "metadata": {},
   "outputs": [],
   "source": [
    "y = [x for x in range(len(results.keys()))]\n",
    "plt.title(\"Standart Deviation\")\n",
    "plt.ylabel(\"standard deviation\")\n",
    "plt.xlabel(\"benchmark index\")\n",
    "plt.scatter(y, std)\n",
    "ax.set_xticks(y)\n",
    "ax.set_xticklabels(results.keys())\n",
    "plt.show()"
   ]
  },
  {
   "cell_type": "code",
   "execution_count": null,
   "id": "010917d4",
   "metadata": {},
   "outputs": [],
   "source": [
    "# @@ Cell 213\n",
    "fig, ax = plt.subplots(figsize=(20, 10))\n",
    "#plt.figure(figsize=(20, 10), dpi=80)\n",
    "std = []\n",
    "for bench in results.keys():\n",
    "    x = []\n",
    "    for entry in results[bench]:\n",
    "        x.append(entry[2])\n",
    "    # plt.plot(x)\n",
    "    std.append(np.std(x))\n",
    "    # plt.axhline(y=np.std(x), linestyle='-')"
   ]
  },
  {
   "cell_type": "code",
   "execution_count": null,
   "id": "b2c83235",
   "metadata": {},
   "outputs": [],
   "source": [
    "y = [x for x in range(len(results.keys()))]\n",
    "plt.title(\"Standart Deviation\")\n",
    "plt.ylabel(\"standard deviation\")\n",
    "plt.xlabel(\"benchmark index\")\n",
    "plt.scatter(y, std)\n",
    "plt.xticks(rotation=90)\n",
    "ax.set_xticks(y)\n",
    "ax.set_xticklabels(results.keys())\n",
    "plt.show()"
   ]
  },
  {
   "cell_type": "code",
   "execution_count": null,
   "id": "22887306",
   "metadata": {},
   "outputs": [],
   "source": [
    "# @@ Cell 214\n",
    "plt.figure(figsize=(20, 10), dpi=80)\n",
    "all = []\n",
    "for idx, bench in enumerate(results.keys()):\n",
    "    x = []\n",
    "    for entry in results[bench]:\n",
    "        x.append(np.log(entry[2]))\n",
    "    all.append(x - np.mean(x))"
   ]
  },
  {
   "cell_type": "code",
   "execution_count": null,
   "id": "d4fc3a12",
   "metadata": {},
   "outputs": [],
   "source": [
    "plt.boxplot(all)\n",
    "plt.show()"
   ]
  },
  {
   "cell_type": "code",
   "execution_count": null,
   "id": "2747cfa1",
   "metadata": {},
   "outputs": [],
   "source": [
    "# @@ Cell 215\n",
    "fig, ax = plt.subplots(figsize=(20, 10))\n",
    "all = []\n",
    "for idx, bench in enumerate(results.keys()):\n",
    "    x = []\n",
    "    for entry in results[bench]:\n",
    "        x.append(np.log(entry[2]))\n",
    "    all.append(x - np.mean(x))"
   ]
  },
  {
   "cell_type": "code",
   "execution_count": null,
   "id": "5fef3065",
   "metadata": {},
   "outputs": [],
   "source": [
    "y = [x for x in range(len(results.keys()))]\n",
    "plt.xticks(rotation=90)\n",
    "ax.set_xticks(y)\n",
    "ax.set_xticklabels(results.keys())\n",
    "plt.boxplot(all)\n",
    "plt.show()"
   ]
  },
  {
   "cell_type": "code",
   "execution_count": null,
   "id": "84c70ac4",
   "metadata": {},
   "outputs": [],
   "source": [
    "# @@ Cell 216\n",
    "fig, ax = plt.subplots(figsize=(20, 10))\n",
    "all = []\n",
    "for idx, bench in enumerate(results.keys()):\n",
    "    x = []\n",
    "    for entry in results[bench]:\n",
    "        x.append(np.log(entry[2]))\n",
    "    all.append(x - np.mean(x))"
   ]
  },
  {
   "cell_type": "code",
   "execution_count": null,
   "id": "dcdc1ffd",
   "metadata": {},
   "outputs": [],
   "source": [
    "plt.boxplot(all)\n",
    "y = [x for x in range(len(results.keys()))]\n",
    "plt.xticks(rotation=90)\n",
    "ax.set_xticks(y)\n",
    "ax.set_xticklabels(results.keys())\n",
    "plt.show()"
   ]
  },
  {
   "cell_type": "code",
   "execution_count": null,
   "id": "23e8f7a1",
   "metadata": {},
   "outputs": [],
   "source": [
    "# @@ Cell 217\n",
    "# y = [x for x in range(len(std))]\n",
    "# plt.plot(std)\n",
    "plt.plot(spread)"
   ]
  },
  {
   "cell_type": "code",
   "execution_count": null,
   "id": "94177962",
   "metadata": {},
   "outputs": [],
   "source": [
    "# @@ Cell 218\n",
    "fig, ax = plt.subplots(figsize=(20, 10))"
   ]
  },
  {
   "cell_type": "code",
   "execution_count": null,
   "id": "a49dbe63",
   "metadata": {},
   "outputs": [],
   "source": [
    "y = [x for x in range(len(results.keys()))]\n",
    "plt.title(\"Spread\")\n",
    "plt.ylabel(\"Mean Spread\")\n",
    "plt.xlabel(\"benchmark index\")\n",
    "plt.scatter(y, spread)\n",
    "plt.xticks(rotation=90)\n",
    "ax.set_xticks(y)\n",
    "ax.set_xticklabels(results.keys())\n",
    "plt.show()"
   ]
  },
  {
   "cell_type": "code",
   "execution_count": null,
   "id": "547754db",
   "metadata": {},
   "outputs": [],
   "source": [
    "# @@ Cell 219\n",
    "fig, ax = plt.subplots(figsize=(20, 10))"
   ]
  },
  {
   "cell_type": "code",
   "execution_count": null,
   "id": "32a8f7e0",
   "metadata": {},
   "outputs": [],
   "source": [
    "y = [x for x in range(len(results.keys()))]\n",
    "plt.title(\"Maximum Spread\")\n",
    "plt.ylabel(\"Maximum Spread\")\n",
    "plt.xlabel(\"benchmark\")\n",
    "plt.scatter(y, spread)\n",
    "plt.xticks(rotation=90)\n",
    "ax.set_xticks(y)\n",
    "ax.set_xticklabels(results.keys())\n",
    "plt.show()"
   ]
  },
  {
   "cell_type": "code",
   "execution_count": null,
   "id": "a39cc861",
   "metadata": {},
   "outputs": [],
   "source": [
    "# @@ Cell 220\n",
    "[]: Benchmarks\n",
    "{stability: }"
   ]
  },
  {
   "cell_type": "code",
   "execution_count": null,
   "id": "e533503f",
   "metadata": {
    "lines_to_next_cell": 1
   },
   "outputs": [],
   "source": [
    "# @@ Cell 221\n",
    "\"\"\"\n",
    "@param benchmarks: List[Benchmarks] => {stabilityMetric1, s1, s3, coveredNodes}\n",
    "@param graphNodes: List[Nodes] => \n",
    "@param treshold: float => treshold stable vs unstable\n",
    "\n",
    "return benchmarksStrings: Set[str] => set of reduced benchmarks\n",
    "\"\"\"\n",
    "def reduceSuite(benchmarks: List[]):\n",
    "    return"
   ]
  },
  {
   "cell_type": "code",
   "execution_count": null,
   "id": "0148b71a",
   "metadata": {
    "lines_to_next_cell": 1
   },
   "outputs": [],
   "source": [
    "# @@ Cell 222\n",
    "\"\"\"\n",
    "@param benchmarks: List[Benchmarks] => {stabilityMetric1, s1, s3, coveredNodes}\n",
    "@param graphNodes: List[Nodes] => \n",
    "@param treshold: float => treshold stable vs unstable\n",
    "\n",
    "return benchmarksStrings: Set[str] => set of reduced benchmarks\n",
    "\"\"\"\n",
    "def reduceSuite(benchmarks: List[str]):\n",
    "    return"
   ]
  },
  {
   "cell_type": "code",
   "execution_count": null,
   "id": "f2c98f67",
   "metadata": {
    "lines_to_next_cell": 1
   },
   "outputs": [],
   "source": [
    "# @@ Cell 223\n",
    "\"\"\"\n",
    "@param benchmarks: List[Benchmarks] => {stabilityMetric1, s1, s3, coveredNodes}\n",
    "@param graphNodes: List[Nodes] => \n",
    "@param treshold: float => treshold stable vs unstable\n",
    "\n",
    "return benchmarksStrings: Set[str] => set of reduced benchmarks\n",
    "\"\"\"\n",
    "def reduceSuite(benchmarks: list[str]):\n",
    "    return"
   ]
  },
  {
   "cell_type": "code",
   "execution_count": null,
   "id": "921d66cc",
   "metadata": {
    "lines_to_next_cell": 1
   },
   "outputs": [],
   "source": [
    "# @@ Cell 224\n",
    "\"\"\"\n",
    "@param benchmarks: List[Benchmarks] => {stabilityMetric1, s1, s3, coveredNodes}\n",
    "@param graphNodes: List[Nodes] => \n",
    "@param treshold: float => treshold stable vs unstable\n",
    "\n",
    "return benchmarksStrings: Set[str] => set of reduced benchmarks\n",
    "\"\"\"\n",
    "def reduceSuite(benchmarks: list[dict]):\n",
    "    return"
   ]
  },
  {
   "cell_type": "code",
   "execution_count": null,
   "id": "053f4aa0",
   "metadata": {
    "lines_to_next_cell": 1
   },
   "outputs": [],
   "source": [
    "# @@ Cell 225\n",
    "\"\"\"\n",
    "@param benchmarks: list[dict] => {stabilityMetric1, s1, s3, coveredNodes}\n",
    "@param graphNodes: list[Nodes] => \n",
    "@param treshold: float => treshold stable vs unstable\n",
    "\n",
    "return benchmarksStrings: set[str] => set of reduced benchmarks\n",
    "\"\"\"\n",
    "def reduceSuite(benchmarks: list[dict], graphNodes: list[str], treshold: float) -> [str]:\n",
    "    return"
   ]
  },
  {
   "cell_type": "code",
   "execution_count": null,
   "id": "f08880f0",
   "metadata": {
    "lines_to_next_cell": 1
   },
   "outputs": [],
   "source": [
    "# @@ Cell 226\n",
    "\"\"\"\n",
    "@param benchmarks: list[dict] => {stabilityMetric1, s1, s3, coveredNodes}\n",
    "@param graphNodes: list[Nodes] => \n",
    "@param treshold: float => treshold stable vs unstable\n",
    "\n",
    "return benchmarksStrings: set[str] => set of reduced benchmarks\n",
    "\"\"\"\n",
    "def reduceSuite(benchmarks: [dict], graphNodes: [str], treshold: float) -> [str]:\n",
    "    return"
   ]
  },
  {
   "cell_type": "code",
   "execution_count": null,
   "id": "39f2d623",
   "metadata": {
    "lines_to_next_cell": 1
   },
   "outputs": [],
   "source": [
    "# @@ Cell 227\n",
    "def loadBenchmarks(path: str):\n",
    "    return"
   ]
  },
  {
   "cell_type": "code",
   "execution_count": null,
   "id": "680ac5dd",
   "metadata": {},
   "outputs": [],
   "source": [
    "# @@ Cell 228\n",
    "coverage_sorted = sorted(coverage, key=coverage.get, reverse=True)\n",
    "for r in coverage_sorted:\n",
    "    print(r, coverage[r])"
   ]
  },
  {
   "cell_type": "code",
   "execution_count": null,
   "id": "468ffc15",
   "metadata": {},
   "outputs": [],
   "source": [
    "# @@ Cell 229\n",
    "dotFiles"
   ]
  },
  {
   "cell_type": "code",
   "execution_count": null,
   "id": "db98f16d",
   "metadata": {},
   "outputs": [],
   "source": [
    "# @@ Cell 230\n",
    "coverage = {}\n",
    "dots = {}\n",
    "for dotFile in dotFiles:\n",
    "    graph = read_dot(dotFile)\n",
    "    graph = convertWeigthsToFloat(graph)\n",
    "    name = dotFile.split(\"/\")[-1].split(\".\")[0]\n",
    "    coverage[name] = (len(graph.nodes())/len(allnodes)) * 100\n",
    "    dots[name] = graph "
   ]
  },
  {
   "cell_type": "code",
   "execution_count": null,
   "id": "4e802e6e",
   "metadata": {},
   "outputs": [],
   "source": [
    "# @@ Cell 231\n",
    "np.isclose([1,2])"
   ]
  },
  {
   "cell_type": "code",
   "execution_count": null,
   "id": "a7dfd924",
   "metadata": {},
   "outputs": [],
   "source": [
    "# @@ Cell 232\n",
    "np.isclose(1, 2)"
   ]
  },
  {
   "cell_type": "code",
   "execution_count": null,
   "id": "25c5da0b",
   "metadata": {},
   "outputs": [],
   "source": [
    "# @@ Cell 233\n",
    "np.isclose(1, 2, atol=1)"
   ]
  },
  {
   "cell_type": "code",
   "execution_count": null,
   "id": "86a10406",
   "metadata": {},
   "outputs": [],
   "source": [
    "# @@ Cell 234\n",
    "np.isclose(1, 2, atol=0.9)"
   ]
  },
  {
   "cell_type": "code",
   "execution_count": null,
   "id": "bff854bf",
   "metadata": {},
   "outputs": [],
   "source": [
    "# @@ Cell 235\n",
    "for c1 in coverage.keys():\n",
    "    for c2 coverage.keys():\n",
    "        if c1 === c2:\n",
    "            continue\n",
    "        if np.isclose(coverage[c1], coverage[c2], atol=0.5):\n",
    "            print(f\"{c1}: {coverage[c1]} and {c2}: {coverage[c2]}\")"
   ]
  },
  {
   "cell_type": "code",
   "execution_count": null,
   "id": "6740c6ab",
   "metadata": {},
   "outputs": [],
   "source": [
    "# @@ Cell 236\n",
    "for c1 in coverage.keys():\n",
    "    for c2 in coverage.keys():\n",
    "        if c1 === c2:\n",
    "            continue\n",
    "        if np.isclose(coverage[c1], coverage[c2], atol=0.5):\n",
    "            print(f\"{c1}: {coverage[c1]} and {c2}: {coverage[c2]}\")"
   ]
  },
  {
   "cell_type": "code",
   "execution_count": null,
   "id": "09b187f9",
   "metadata": {},
   "outputs": [],
   "source": [
    "# @@ Cell 237\n",
    "for c1 in coverage.keys():\n",
    "    for c2 in coverage.keys():\n",
    "        if c1 == c2:\n",
    "            continue\n",
    "        if np.isclose(coverage[c1], coverage[c2], atol=0.5):\n",
    "            print(f\"{c1}: {coverage[c1]} and {c2}: {coverage[c2]}\")"
   ]
  },
  {
   "cell_type": "code",
   "execution_count": null,
   "id": "03f88741",
   "metadata": {},
   "outputs": [],
   "source": [
    "# @@ Cell 238\n",
    "# Check benchmarks with similar coverage\n",
    "for c1 in coverage.keys():\n",
    "    for c2 in coverage.keys():\n",
    "        if c1.split(\"_\")[0] == c2.split(\"_\")[0]:\n",
    "            continue\n",
    "        if np.isclose(coverage[c1], coverage[c2], atol=0.5):\n",
    "            print(f\"{c1}: {coverage[c1]} and {c2}: {coverage[c2]}\")"
   ]
  },
  {
   "cell_type": "code",
   "execution_count": null,
   "id": "c64ec213",
   "metadata": {},
   "outputs": [],
   "source": [
    "# @@ Cell 239\n",
    "graph.nodes()"
   ]
  },
  {
   "cell_type": "code",
   "execution_count": null,
   "id": "87e82c1b",
   "metadata": {},
   "outputs": [],
   "source": [
    "# @@ Cell 240\n",
    "list(graph.nodes())"
   ]
  },
  {
   "cell_type": "code",
   "execution_count": null,
   "id": "12ed682f",
   "metadata": {},
   "outputs": [],
   "source": [
    "# @@ Cell 241\n",
    "np.intersect1d(graph.nodes(), allnodes)"
   ]
  },
  {
   "cell_type": "code",
   "execution_count": null,
   "id": "c72350ab",
   "metadata": {},
   "outputs": [],
   "source": [
    "# @@ Cell 242\n",
    "np.intersect1d(set(graph.nodes()), allnodes)"
   ]
  },
  {
   "cell_type": "code",
   "execution_count": null,
   "id": "cd8a5d93",
   "metadata": {},
   "outputs": [],
   "source": [
    "# @@ Cell 243\n",
    "allnodes"
   ]
  },
  {
   "cell_type": "code",
   "execution_count": null,
   "id": "8be122ac",
   "metadata": {},
   "outputs": [],
   "source": [
    "# @@ Cell 244\n",
    "np.intersect1d(set(graph.nodes()), list(allnodes)"
   ]
  },
  {
   "cell_type": "code",
   "execution_count": null,
   "id": "fc70c953",
   "metadata": {},
   "outputs": [],
   "source": [
    "# @@ Cell 245\n",
    "np.intersect1d(set(graph.nodes()), list(allnodes))"
   ]
  },
  {
   "cell_type": "code",
   "execution_count": null,
   "id": "d6453f22",
   "metadata": {},
   "outputs": [],
   "source": [
    "# @@ Cell 246\n",
    "np.intersect1d(set(graph.nodes()), set(allnodes))"
   ]
  },
  {
   "cell_type": "code",
   "execution_count": null,
   "id": "9a738e90",
   "metadata": {},
   "outputs": [],
   "source": [
    "# @@ Cell 247\n",
    "list(allnodes)"
   ]
  },
  {
   "cell_type": "code",
   "execution_count": null,
   "id": "e4c4a4ef",
   "metadata": {},
   "outputs": [],
   "source": [
    "# @@ Cell 248\n",
    "np.intersect1d(list(graph.nodes()), list(allnodes))"
   ]
  },
  {
   "cell_type": "code",
   "execution_count": null,
   "id": "2274941b",
   "metadata": {},
   "outputs": [],
   "source": [
    "# @@ Cell 249\n",
    "# Check benchmarks with similar coverage\n",
    "for c1 in coverage.keys():\n",
    "    for c2 in coverage.keys():\n",
    "        if c1.split(\"_\")[0] == c2.split(\"_\")[0]:\n",
    "            continue\n",
    "        if np.isclose(coverage[c1], coverage[c2], atol=0.5):\n",
    "            overlap = np.intersect1d(list(dots[c1].graph.nodes()), list(dots[c2].graph.nodes()))\n",
    "            print(f\"{c1}: {coverage[c1]} and {c2}: {coverage[c2]}\")"
   ]
  },
  {
   "cell_type": "code",
   "execution_count": null,
   "id": "b2f98023",
   "metadata": {},
   "outputs": [],
   "source": [
    "# @@ Cell 250\n",
    "# Check benchmarks with similar coverage\n",
    "for c1 in coverage.keys():\n",
    "    for c2 in coverage.keys():\n",
    "        if c1.split(\"_\")[0] == c2.split(\"_\")[0]:\n",
    "            continue\n",
    "        if np.isclose(coverage[c1], coverage[c2], atol=0.5):\n",
    "            overlap = np.intersect1d(list(dots[c1].nodes()), list(dots[c2].nodes()))\n",
    "            print(f\"{c1}: {coverage[c1]} and {c2}: {coverage[c2]}\")"
   ]
  },
  {
   "cell_type": "code",
   "execution_count": null,
   "id": "01fdff1e",
   "metadata": {},
   "outputs": [],
   "source": [
    "# @@ Cell 251\n",
    "# Check benchmarks with similar coverage\n",
    "for c1 in coverage.keys():\n",
    "    for c2 in coverage.keys():\n",
    "        if c1.split(\"_\")[0] == c2.split(\"_\")[0]:\n",
    "            continue\n",
    "        if np.isclose(coverage[c1], coverage[c2], atol=0.5):\n",
    "            overlap = np.intersect1d(list(dots[c1].nodes()), list(dots[c2].nodes()))\n",
    "            print(f\"Overlap: {len(overlap)} -- {c1}: {coverage[c1]} and {c2}: {coverage[c2]}\")"
   ]
  },
  {
   "cell_type": "code",
   "execution_count": null,
   "id": "64980fd4",
   "metadata": {},
   "outputs": [],
   "source": [
    "# @@ Cell 252\n",
    "# Check benchmarks with similar coverage\n",
    "for c1 in coverage.keys():\n",
    "    for c2 in coverage.keys():\n",
    "        if c1.split(\"_\")[0] == c2.split(\"_\")[0]:\n",
    "            continue\n",
    "        if np.isclose(coverage[c1], coverage[c2], atol=0.5):\n",
    "            overlap = np.intersect1d(list(dots[c1].nodes()), list(dots[c2].nodes()))\n",
    "            \n",
    "            perc1 = (len(overlap)/len(list(dots[c1].nodes())) * 100\n",
    "            perc2 = (len(overlap)/len(list(dots[c2].nodes())) * 100\n",
    "            \n",
    "            print(f\"Overlap: {len(overlap)} -- perc1: {perc1}, perc2: {perc2}\")\n",
    "            print(f\"{c1}: {coverage[c1]} and {c2}: {coverage[c2]}\")\n",
    "            print()"
   ]
  },
  {
   "cell_type": "code",
   "execution_count": null,
   "id": "4427f700",
   "metadata": {},
   "outputs": [],
   "source": [
    "# @@ Cell 253\n",
    "# Check benchmarks with similar coverage\n",
    "for c1 in coverage.keys():\n",
    "    for c2 in coverage.keys():\n",
    "        if c1.split(\"_\")[0] == c2.split(\"_\")[0]:\n",
    "            continue\n",
    "        if np.isclose(coverage[c1], coverage[c2], atol=0.5):\n",
    "            overlap = np.intersect1d(list(dots[c1].nodes()), list(dots[c2].nodes()))\n",
    "            \n",
    "            perc1 = (len(overlap)/len(list(dots[c1].nodes()))) * 100\n",
    "            perc2 = (len(overlap)/len(list(dots[c2].nodes()))) * 100\n",
    "            \n",
    "            print(f\"Overlap: {len(overlap)} -- perc1: {perc1}, perc2: {perc2}\")\n",
    "            print(f\"{c1}: {coverage[c1]} and {c2}: {coverage[c2]}\")\n",
    "            print()"
   ]
  },
  {
   "cell_type": "code",
   "execution_count": null,
   "id": "9fe592dd",
   "metadata": {},
   "outputs": [],
   "source": [
    "# @@ Cell 254\n",
    "dots[\"BenchmarkLabelNames_1\"].nodes()"
   ]
  },
  {
   "cell_type": "code",
   "execution_count": null,
   "id": "39f2875d",
   "metadata": {},
   "outputs": [],
   "source": [
    "# @@ Cell 255\n",
    "print(dots[\"BenchmarkParseDuration_3\"].nodes())\n",
    "print(dots[\"BenchmarkMetricToFastFingerprintTripleConc1_2\"].nodes())"
   ]
  },
  {
   "cell_type": "code",
   "execution_count": null,
   "id": "cb5e3644",
   "metadata": {},
   "outputs": [],
   "source": [
    "# @@ Cell 256\n",
    "print(dots[\"BenchmarkParseDuration_3\"].nodes())\n",
    "print(dots[\"BenchmarkMetricToFastFingerprintTripleConc1_2\"].nodes())\n",
    "g1 = dots[\"BenchmarkParseDuration_3\"]\n",
    "g2 = dots[\"BenchmarkMetricToFastFingerprintTripleConc1_2\"]"
   ]
  },
  {
   "cell_type": "code",
   "execution_count": null,
   "id": "cc3ebaab",
   "metadata": {},
   "outputs": [],
   "source": [
    "pos = graphviz_layout(fullGraph, prog='dot')\n",
    "nx.draw(graph, pos, with_labels=False, arrows=True)\n",
    "nx.draw(graph, pos, with_labels=False, arrows=True)"
   ]
  },
  {
   "cell_type": "code",
   "execution_count": null,
   "id": "9b5c6658",
   "metadata": {},
   "outputs": [],
   "source": [
    "# @@ Cell 257\n",
    "print(dots[\"BenchmarkParseDuration_3\"].nodes())\n",
    "print(dots[\"BenchmarkMetricToFastFingerprintTripleConc1_2\"].nodes())\n",
    "g1 = dots[\"BenchmarkParseDuration_3\"]\n",
    "g2 = dots[\"BenchmarkMetricToFastFingerprintTripleConc1_2\"]"
   ]
  },
  {
   "cell_type": "code",
   "execution_count": null,
   "id": "4fa3b907",
   "metadata": {},
   "outputs": [],
   "source": [
    "pos = graphviz_layout(fullGraph, prog='dot')\n",
    "nx.draw(g1, pos, with_labels=False, arrows=True)\n",
    "nx.draw(g2, pos, with_labels=False, arrows=True)"
   ]
  },
  {
   "cell_type": "code",
   "execution_count": null,
   "id": "ac89fff5",
   "metadata": {},
   "outputs": [],
   "source": [
    "# @@ Cell 258\n",
    "print(dots[\"BenchmarkParseDuration_3\"].nodes())\n",
    "print(dots[\"BenchmarkMetricToFastFingerprintTripleConc1_2\"].nodes())\n",
    "g1 = dots[\"BenchmarkParseDuration_3\"]\n",
    "g2 = dots[\"BenchmarkMetricToFastFingerprintTripleConc1_2\"]"
   ]
  },
  {
   "cell_type": "code",
   "execution_count": null,
   "id": "2054720f",
   "metadata": {},
   "outputs": [],
   "source": [
    "pos = graphviz_layout(g1, prog='dot')\n",
    "nx.draw(g1, pos, with_labels=False, arrows=True)\n",
    "nx.draw(g2, pos, with_labels=False, arrows=True)"
   ]
  },
  {
   "cell_type": "code",
   "execution_count": null,
   "id": "fdf149ef",
   "metadata": {},
   "outputs": [],
   "source": [
    "# @@ Cell 259\n",
    "print(dots[\"BenchmarkParseDuration_3\"].nodes())\n",
    "print(dots[\"BenchmarkMetricToFastFingerprintTripleConc1_2\"].nodes())\n",
    "g1 = dots[\"BenchmarkParseDuration_3\"]\n",
    "g2 = dots[\"BenchmarkMetricToFastFingerprintTripleConc1_2\"]"
   ]
  },
  {
   "cell_type": "code",
   "execution_count": null,
   "id": "e35dc4ab",
   "metadata": {},
   "outputs": [],
   "source": [
    "pos = graphviz_layout(g1, prog='dot')\n",
    "nx.draw(g1, pos, with_labels=False, arrows=True)\n",
    "plt.show()\n",
    "nx.draw(g2, pos, with_labels=False, arrows=True)"
   ]
  },
  {
   "cell_type": "code",
   "execution_count": null,
   "id": "9562d8bd",
   "metadata": {},
   "outputs": [],
   "source": [
    "# @@ Cell 260\n",
    "print(dots[\"BenchmarkParseDuration_3\"].nodes())\n",
    "print(dots[\"BenchmarkMetricToFastFingerprintTripleConc1_2\"].nodes())\n",
    "g1 = dots[\"BenchmarkParseDuration_3\"]\n",
    "g2 = dots[\"BenchmarkMetricToFastFingerprintTripleConc1_2\"]"
   ]
  },
  {
   "cell_type": "code",
   "execution_count": null,
   "id": "b8abbcc7",
   "metadata": {},
   "outputs": [],
   "source": [
    "pos = graphviz_layout(g1, prog='dot')\n",
    "nx.draw(g1, pos, with_labels=False, arrows=True, node_color='#00b4d9')\n",
    "plt.show()\n",
    "nx.draw(g2, pos, with_labels=False, arrows=True)"
   ]
  },
  {
   "cell_type": "code",
   "execution_count": null,
   "id": "d161fcbf",
   "metadata": {},
   "outputs": [],
   "source": [
    "# @@ Cell 261\n",
    "print(dots[\"BenchmarkParseDuration_3\"].nodes())\n",
    "print(dots[\"BenchmarkMetricToFastFingerprintTripleConc1_2\"].nodes())\n",
    "g1 = dots[\"BenchmarkParseDuration_3\"]\n",
    "g2 = dots[\"BenchmarkMetricToFastFingerprintTripleConc1_2\"]"
   ]
  },
  {
   "cell_type": "code",
   "execution_count": null,
   "id": "774e0419",
   "metadata": {},
   "outputs": [],
   "source": [
    "pos = graphviz_layout(g1, prog='dot')\n",
    "nx.draw(g1, pos, with_labels=False, arrows=True, node_color='red')\n",
    "plt.show()\n",
    "nx.draw(g2, pos, with_labels=False, arrows=True)"
   ]
  },
  {
   "cell_type": "code",
   "execution_count": null,
   "id": "f3aa6432",
   "metadata": {},
   "outputs": [],
   "source": [
    "# @@ Cell 262\n",
    "print(dots[\"BenchmarkParseDuration_3\"].nodes())\n",
    "print(dots[\"BenchmarkMetricToFastFingerprintTripleConc1_2\"].nodes())\n",
    "g1 = dots[\"BenchmarkParseDuration_3\"]\n",
    "g2 = dots[\"BenchmarkMetricToFastFingerprintTripleConc1_2\"]"
   ]
  },
  {
   "cell_type": "code",
   "execution_count": null,
   "id": "23ac84d1",
   "metadata": {},
   "outputs": [],
   "source": [
    "pos = graphviz_layout(g1, prog='dot')\n",
    "nx.draw(g1, pos, with_labels=False, arrows=True, node_color='red')\n",
    "plt.show()\n",
    "nx.draw(g2, pos, with_labels=False, arrows=True, node_color='blue')"
   ]
  },
  {
   "cell_type": "code",
   "execution_count": null,
   "id": "f0d734f9",
   "metadata": {},
   "outputs": [],
   "source": [
    "# @@ Cell 263\n",
    "print(dots[\"BenchmarkParseDuration_3\"].nodes())\n",
    "print(dots[\"BenchmarkMetricToFastFingerprintTripleConc1_2\"].nodes())\n",
    "g1 = dots[\"BenchmarkParseDuration_3\"]\n",
    "g2 = dots[\"BenchmarkMetricToFastFingerprintTripleConc1_2\"]"
   ]
  },
  {
   "cell_type": "code",
   "execution_count": null,
   "id": "f71f0eda",
   "metadata": {},
   "outputs": [],
   "source": [
    "pos = graphviz_layout(g1, prog='dot')\n",
    "nx.draw(g1, pos, with_labels=False, arrows=True, node_color='red')\n",
    "nx.draw(g2, pos, with_labels=False, arrows=True, node_color='blue')"
   ]
  },
  {
   "cell_type": "code",
   "execution_count": null,
   "id": "b9f8a906",
   "metadata": {},
   "outputs": [],
   "source": [
    "# @@ Cell 264\n",
    "g1 = dots[\"BenchmarkLabelToSignatureScalar_3\"]\n",
    "g2 = dots[\"BenchmarkMetricToFingerprintScalar_1\"]"
   ]
  },
  {
   "cell_type": "code",
   "execution_count": null,
   "id": "a5d56d5f",
   "metadata": {},
   "outputs": [],
   "source": [
    "pos = graphviz_layout(g1, prog='dot')\n",
    "nx.draw(g1, pos, with_labels=False, arrows=True, node_color='red')\n",
    "nx.draw(g2, pos, with_labels=False, arrows=True, node_color='blue')"
   ]
  },
  {
   "cell_type": "code",
   "execution_count": null,
   "id": "eb76d9eb",
   "metadata": {},
   "outputs": [],
   "source": [
    "# @@ Cell 265\n",
    "g1 = dots[\"BenchmarkLabelToSignatureScalar_3\"]\n",
    "g2 = dots[\"BenchmarkMetricToFingerprintScalar_1\"]"
   ]
  },
  {
   "cell_type": "code",
   "execution_count": null,
   "id": "42ec1c6d",
   "metadata": {
    "lines_to_next_cell": 1
   },
   "outputs": [],
   "source": [
    "pos = graphviz_layout(g1, prog='dot')\n",
    "nx.draw(g1, pos, with_labels=False, arrows=True, node_color='red')\n",
    "plt.show()\n",
    "nx.draw(g2, pos, with_labels=False, arrows=True, node_color='blue')"
   ]
  },
  {
   "cell_type": "code",
   "execution_count": null,
   "id": "762b25c5",
   "metadata": {
    "lines_to_next_cell": 1
   },
   "outputs": [],
   "source": [
    "# @@ Cell 266\n",
    "def drawDiffernce(g1, g2):\n",
    "    pos = graphviz_layout(g1, prog='dot')\n",
    "    nx.draw(g1, pos, with_labels=False, arrows=True, node_color='red')\n",
    "    nx.draw(g2, pos, with_labels=False, arrows=True, node_color='blue')"
   ]
  },
  {
   "cell_type": "code",
   "execution_count": null,
   "id": "50bdb85b",
   "metadata": {
    "lines_to_next_cell": 1
   },
   "outputs": [],
   "source": [
    "# @@ Cell 267\n",
    "# Check benchmarks with similar coverage\n",
    "for c1 in coverage.keys():\n",
    "    for c2 in coverage.keys():\n",
    "        if c1.split(\"_\")[0] == c2.split(\"_\")[0]:\n",
    "            continue\n",
    "        if np.isclose(coverage[c1], coverage[c2], atol=0.5):\n",
    "            overlap = np.intersect1d(list(dots[c1].nodes()), list(dots[c2].nodes()))\n",
    "            \n",
    "            perc1 = (len(overlap)/len(list(dots[c1].nodes()))) * 100\n",
    "            perc2 = (len(overlap)/len(list(dots[c2].nodes()))) * 100\n",
    "            \n",
    "            print(f\"Overlap: {len(overlap)} -- perc1: {perc1}, perc2: {perc2}\")\n",
    "            print(f\"{c1}: {coverage[c1]} and {c2}: {coverage[c2]}\")\n",
    "            drawDiffernce(dots[c1], dots[c2])\n",
    "            print()"
   ]
  },
  {
   "cell_type": "code",
   "execution_count": null,
   "id": "31fc00e9",
   "metadata": {
    "lines_to_next_cell": 1
   },
   "outputs": [],
   "source": [
    "# @@ Cell 268\n",
    "def drawDiffernce(g1, g2):\n",
    "    pos = graphviz_layout(g2, prog='dot')\n",
    "    nx.draw(g1, pos, with_labels=False, arrows=True, node_color='red')\n",
    "    nx.draw(g2, pos, with_labels=False, arrows=True, node_color='blue')"
   ]
  },
  {
   "cell_type": "code",
   "execution_count": null,
   "id": "093e50b1",
   "metadata": {
    "lines_to_next_cell": 1
   },
   "outputs": [],
   "source": [
    "# @@ Cell 269\n",
    "# Check benchmarks with similar coverage\n",
    "for c1 in coverage.keys():\n",
    "    for c2 in coverage.keys():\n",
    "        if c1.split(\"_\")[0] == c2.split(\"_\")[0]:\n",
    "            continue\n",
    "        if np.isclose(coverage[c1], coverage[c2], atol=0.5):\n",
    "            overlap = np.intersect1d(list(dots[c1].nodes()), list(dots[c2].nodes()))\n",
    "            \n",
    "            perc1 = (len(overlap)/len(list(dots[c1].nodes()))) * 100\n",
    "            perc2 = (len(overlap)/len(list(dots[c2].nodes()))) * 100\n",
    "            \n",
    "            print(f\"Overlap: {len(overlap)} -- perc1: {perc1}, perc2: {perc2}\")\n",
    "            print(f\"{c1}: {coverage[c1]} and {c2}: {coverage[c2]}\")\n",
    "            drawDiffernce(dots[c1], dots[c2])\n",
    "            print()"
   ]
  },
  {
   "cell_type": "code",
   "execution_count": null,
   "id": "cfc715a8",
   "metadata": {
    "lines_to_next_cell": 1
   },
   "outputs": [],
   "source": [
    "# @@ Cell 270\n",
    "def drawDiffernce(g1, g2):\n",
    "    pos = graphviz_layout(fullGraph, prog='dot')\n",
    "    nx.draw(g1, pos, with_labels=False, arrows=True, node_color='red')\n",
    "    nx.draw(g2, pos, with_labels=False, arrows=True, node_color='blue')"
   ]
  },
  {
   "cell_type": "code",
   "execution_count": null,
   "id": "9fe39765",
   "metadata": {},
   "outputs": [],
   "source": [
    "# @@ Cell 271\n",
    "# Check benchmarks with similar coverage\n",
    "for c1 in coverage.keys():\n",
    "    for c2 in coverage.keys():\n",
    "        if c1.split(\"_\")[0] == c2.split(\"_\")[0]:\n",
    "            continue\n",
    "        if np.isclose(coverage[c1], coverage[c2], atol=0.5):\n",
    "            overlap = np.intersect1d(list(dots[c1].nodes()), list(dots[c2].nodes()))\n",
    "            \n",
    "            perc1 = (len(overlap)/len(list(dots[c1].nodes()))) * 100\n",
    "            perc2 = (len(overlap)/len(list(dots[c2].nodes()))) * 100\n",
    "            \n",
    "            print(f\"Overlap: {len(overlap)} -- perc1: {perc1}, perc2: {perc2}\")\n",
    "            print(f\"{c1}: {coverage[c1]} and {c2}: {coverage[c2]}\")\n",
    "            drawDiffernce(dots[c1], dots[c2])\n",
    "            print()"
   ]
  },
  {
   "cell_type": "code",
   "execution_count": null,
   "id": "a15e8f70",
   "metadata": {
    "lines_to_next_cell": 1
   },
   "outputs": [],
   "source": [
    "# @@ Cell 272\n",
    "fullGraph"
   ]
  },
  {
   "cell_type": "code",
   "execution_count": null,
   "id": "7bfc9bcf",
   "metadata": {
    "lines_to_next_cell": 1
   },
   "outputs": [],
   "source": [
    "# @@ Cell 273\n",
    "def drawDiffernce(g1, g2):\n",
    "    # pos = graphviz_layout(fullGraph, prog='dot')\n",
    "    nx.draw(g1, pos, with_labels=False, arrows=True, node_color='red')\n",
    "    nx.draw(g2, pos, with_labels=False, arrows=True, node_color='blue')"
   ]
  },
  {
   "cell_type": "code",
   "execution_count": null,
   "id": "7b746e1f",
   "metadata": {
    "lines_to_next_cell": 1
   },
   "outputs": [],
   "source": [
    "# @@ Cell 274\n",
    "# Check benchmarks with similar coverage\n",
    "for c1 in coverage.keys():\n",
    "    for c2 in coverage.keys():\n",
    "        if c1.split(\"_\")[0] == c2.split(\"_\")[0]:\n",
    "            continue\n",
    "        if np.isclose(coverage[c1], coverage[c2], atol=0.5):\n",
    "            overlap = np.intersect1d(list(dots[c1].nodes()), list(dots[c2].nodes()))\n",
    "            \n",
    "            perc1 = (len(overlap)/len(list(dots[c1].nodes()))) * 100\n",
    "            perc2 = (len(overlap)/len(list(dots[c2].nodes()))) * 100\n",
    "            \n",
    "            print(f\"Overlap: {len(overlap)} -- perc1: {perc1}, perc2: {perc2}\")\n",
    "            print(f\"{c1}: {coverage[c1]} and {c2}: {coverage[c2]}\")\n",
    "            drawDiffernce(dots[c1], dots[c2])\n",
    "            print()"
   ]
  },
  {
   "cell_type": "code",
   "execution_count": null,
   "id": "78b2e3ed",
   "metadata": {
    "lines_to_next_cell": 1
   },
   "outputs": [],
   "source": [
    "# @@ Cell 275\n",
    "def drawDiffernce(g1, g2):\n",
    "    # pos = graphviz_layout(fullGraph, prog='dot')\n",
    "    nx.draw(g1, pos, with_labels=False, arrows=True, node_color='red')\n",
    "    nx.draw(g2, pos, with_labels=False, arrows=True, node_color='blue')\n",
    "    plt.show()"
   ]
  },
  {
   "cell_type": "code",
   "execution_count": null,
   "id": "e3807085",
   "metadata": {
    "lines_to_next_cell": 1
   },
   "outputs": [],
   "source": [
    "# @@ Cell 276\n",
    "def drawDiffernce(g1, g2):\n",
    "    # pos = graphviz_layout(fullGraph, prog='dot')\n",
    "    nx.draw(g1, with_labels=False, arrows=True, node_color='red')\n",
    "    nx.draw(g2, with_labels=False, arrows=True, node_color='blue')\n",
    "    plt.show()"
   ]
  },
  {
   "cell_type": "code",
   "execution_count": null,
   "id": "e9478e69",
   "metadata": {
    "lines_to_next_cell": 1
   },
   "outputs": [],
   "source": [
    "# @@ Cell 277\n",
    "def drawDiffernce(g1, g2):\n",
    "    pos1 = graphviz_layout(g1, prog='dot')\n",
    "    pos2 = graphviz_layout(g2, prog='dot')\n",
    "    nx.draw(g1, pos1, with_labels=False, arrows=True, node_color='red')\n",
    "    nx.draw(g2, pos2, with_labels=False, arrows=True, node_color='blue')\n",
    "    plt.show()"
   ]
  },
  {
   "cell_type": "code",
   "execution_count": null,
   "id": "a1234212",
   "metadata": {
    "lines_to_next_cell": 1
   },
   "outputs": [],
   "source": [
    "# @@ Cell 278\n",
    "# Check benchmarks with similar coverage\n",
    "for c1 in coverage.keys():\n",
    "    for c2 in coverage.keys():\n",
    "        if c1.split(\"_\")[0] == c2.split(\"_\")[0]:\n",
    "            continue\n",
    "        if np.isclose(coverage[c1], coverage[c2], atol=0.5):\n",
    "            overlap = np.intersect1d(list(dots[c1].nodes()), list(dots[c2].nodes()))\n",
    "            \n",
    "            perc1 = (len(overlap)/len(list(dots[c1].nodes()))) * 100\n",
    "            perc2 = (len(overlap)/len(list(dots[c2].nodes()))) * 100\n",
    "            \n",
    "            print(f\"Overlap: {len(overlap)} -- perc1: {perc1}, perc2: {perc2}\")\n",
    "            print(f\"{c1}: {coverage[c1]} and {c2}: {coverage[c2]}\")\n",
    "            drawDiffernce(dots[c1], dots[c2])\n",
    "            print()"
   ]
  },
  {
   "cell_type": "code",
   "execution_count": null,
   "id": "185bdaa8",
   "metadata": {
    "lines_to_next_cell": 1
   },
   "outputs": [],
   "source": [
    "# @@ Cell 279\n",
    "def drawDiffernce(g1, g2):\n",
    "    plt.figure(figsize=(20, 10), dpi=80)\n",
    "    pos1 = graphviz_layout(g1, prog='dot')\n",
    "    pos2 = graphviz_layout(g2, prog='dot')\n",
    "    nx.draw(g1, pos1, with_labels=False, arrows=True, node_color='red')\n",
    "    nx.draw(g2, pos2, with_labels=False, arrows=True, node_color='blue')\n",
    "    plt.show()"
   ]
  },
  {
   "cell_type": "code",
   "execution_count": null,
   "id": "921999f4",
   "metadata": {
    "lines_to_next_cell": 1
   },
   "outputs": [],
   "source": [
    "# @@ Cell 280\n",
    "# Check benchmarks with similar coverage\n",
    "for c1 in coverage.keys():\n",
    "    for c2 in coverage.keys():\n",
    "        if c1.split(\"_\")[0] == c2.split(\"_\")[0]:\n",
    "            continue\n",
    "        if np.isclose(coverage[c1], coverage[c2], atol=0.5):\n",
    "            overlap = np.intersect1d(list(dots[c1].nodes()), list(dots[c2].nodes()))\n",
    "            \n",
    "            perc1 = (len(overlap)/len(list(dots[c1].nodes()))) * 100\n",
    "            perc2 = (len(overlap)/len(list(dots[c2].nodes()))) * 100\n",
    "            \n",
    "            print(f\"Overlap: {len(overlap)} -- perc1: {perc1}, perc2: {perc2}\")\n",
    "            print(f\"{c1}: {coverage[c1]} and {c2}: {coverage[c2]}\")\n",
    "            drawDiffernce(dots[c1], dots[c2])\n",
    "            print()"
   ]
  },
  {
   "cell_type": "code",
   "execution_count": null,
   "id": "d10404fa",
   "metadata": {
    "lines_to_next_cell": 1
   },
   "outputs": [],
   "source": [
    "# @@ Cell 281\n",
    "def drawDiffernce2(g1, g2):\n",
    "    plt.figure(figsize=(20, 10), dpi=80)\n",
    "    pos = graphviz_layout(nx.compose(g1, g2, prog='dot')\n",
    "    nx.draw(g1, pos, with_labels=False, arrows=True, node_color='red')\n",
    "    nx.draw(g2, pos, with_labels=False, arrows=True, node_color='blue')\n",
    "    plt.show()"
   ]
  },
  {
   "cell_type": "code",
   "execution_count": null,
   "id": "f703ba36",
   "metadata": {
    "lines_to_next_cell": 1
   },
   "outputs": [],
   "source": [
    "# @@ Cell 282\n",
    "def drawDiffernce2(g1, g2):\n",
    "    plt.figure(figsize=(20, 10), dpi=80)\n",
    "    pos = graphviz_layout(nx.compose(g1, g2, prog='dot'))\n",
    "    nx.draw(g1, pos, with_labels=False, arrows=True, node_color='red')\n",
    "    nx.draw(g2, pos, with_labels=False, arrows=True, node_color='blue')\n",
    "    plt.show()"
   ]
  },
  {
   "cell_type": "code",
   "execution_count": null,
   "id": "7f5b6b6e",
   "metadata": {
    "lines_to_next_cell": 1
   },
   "outputs": [],
   "source": [
    "# @@ Cell 283\n",
    "# Check benchmarks with similar coverage\n",
    "for c1 in coverage.keys():\n",
    "    for c2 in coverage.keys():\n",
    "        if c1.split(\"_\")[0] == c2.split(\"_\")[0]:\n",
    "            continue\n",
    "        if np.isclose(coverage[c1], coverage[c2], atol=0.5):\n",
    "            overlap = np.intersect1d(list(dots[c1].nodes()), list(dots[c2].nodes()))\n",
    "            \n",
    "            perc1 = (len(overlap)/len(list(dots[c1].nodes()))) * 100\n",
    "            perc2 = (len(overlap)/len(list(dots[c2].nodes()))) * 100\n",
    "            \n",
    "            print(f\"Overlap: {len(overlap)} -- perc1: {perc1}, perc2: {perc2}\")\n",
    "            print(f\"{c1}: {coverage[c1]} and {c2}: {coverage[c2]}\")\n",
    "            drawDiffernce2(dots[c1], dots[c2])\n",
    "            print()"
   ]
  },
  {
   "cell_type": "code",
   "execution_count": null,
   "id": "f7a969ea",
   "metadata": {
    "lines_to_next_cell": 1
   },
   "outputs": [],
   "source": [
    "# @@ Cell 284\n",
    "def drawDiffernce2(g1, g2):\n",
    "    plt.figure(figsize=(20, 10), dpi=80)\n",
    "    pos = graphviz_layout(nx.compose(g1, g2), prog='dot')\n",
    "    nx.draw(g1, pos, with_labels=False, arrows=True, node_color='red')\n",
    "    nx.draw(g2, pos, with_labels=False, arrows=True, node_color='blue')\n",
    "    plt.show()"
   ]
  },
  {
   "cell_type": "code",
   "execution_count": null,
   "id": "a3eae233",
   "metadata": {},
   "outputs": [],
   "source": [
    "# @@ Cell 285\n",
    "# Check benchmarks with similar coverage\n",
    "for c1 in coverage.keys():\n",
    "    for c2 in coverage.keys():\n",
    "        if c1.split(\"_\")[0] == c2.split(\"_\")[0]:\n",
    "            continue\n",
    "        if np.isclose(coverage[c1], coverage[c2], atol=0.5):\n",
    "            overlap = np.intersect1d(list(dots[c1].nodes()), list(dots[c2].nodes()))\n",
    "            \n",
    "            perc1 = (len(overlap)/len(list(dots[c1].nodes()))) * 100\n",
    "            perc2 = (len(overlap)/len(list(dots[c2].nodes()))) * 100\n",
    "            \n",
    "            print(f\"Overlap: {len(overlap)} -- perc1: {perc1}, perc2: {perc2}\")\n",
    "            print(f\"{c1}: {coverage[c1]} and {c2}: {coverage[c2]}\")\n",
    "            drawDiffernce2(dots[c1], dots[c2])\n",
    "            print()"
   ]
  },
  {
   "cell_type": "code",
   "execution_count": null,
   "id": "08bb4406",
   "metadata": {},
   "outputs": [],
   "source": [
    "# @@ Cell 286\n",
    "std = []\n",
    "spread = []\n",
    "stability = {}\n",
    "for bench in results.keys():\n",
    "    x = []\n",
    "    for entry in results[bench]:\n",
    "        x.append(entry[2])\n",
    "    std.append(np.std(x))\n",
    "    spread.append(max_spread(x))\n",
    "    stability[bench].append(max_spread(x))\n",
    "    print(x)"
   ]
  },
  {
   "cell_type": "code",
   "execution_count": null,
   "id": "06fc4123",
   "metadata": {},
   "outputs": [],
   "source": [
    "# @@ Cell 287\n",
    "std = []\n",
    "spread = []\n",
    "stability = {}\n",
    "for bench in results.keys():\n",
    "    x = []\n",
    "    for entry in results[bench]:\n",
    "        x.append(entry[2])\n",
    "    std.append(np.std(x))\n",
    "    spread.append(max_spread(x))\n",
    "    stability[bench].append(max_spread(x))\n",
    "    print(x)"
   ]
  },
  {
   "cell_type": "code",
   "execution_count": null,
   "id": "d2b422a5",
   "metadata": {},
   "outputs": [],
   "source": [
    "# @@ Cell 288\n",
    "std = []\n",
    "spread = []\n",
    "stability = {}\n",
    "for bench in results.keys():\n",
    "    x = []\n",
    "    for entry in results[bench]:\n",
    "        x.append(entry[2])\n",
    "    std.append(np.std(x))\n",
    "    spread.append(max_spread(x))\n",
    "    stability[bench] = max_spread(x)\n",
    "    print(x)"
   ]
  },
  {
   "cell_type": "code",
   "execution_count": null,
   "id": "2ef21b06",
   "metadata": {},
   "outputs": [],
   "source": [
    "# @@ Cell 289\n",
    "stability"
   ]
  },
  {
   "cell_type": "code",
   "execution_count": null,
   "id": "67410b1d",
   "metadata": {},
   "outputs": [],
   "source": [
    "# @@ Cell 290\n",
    "# Check benchmarks with similar coverage\n",
    "for c1 in coverage.keys():\n",
    "    for c2 in coverage.keys():\n",
    "        if c1.split(\"_\")[0] == c2.split(\"_\")[0]:\n",
    "            continue\n",
    "        if np.isclose(coverage[c1], coverage[c2], atol=0.5):\n",
    "            overlap = np.intersect1d(list(dots[c1].nodes()), list(dots[c2].nodes()))\n",
    "            \n",
    "            perc1 = (len(overlap)/len(list(dots[c1].nodes()))) * 100\n",
    "            perc2 = (len(overlap)/len(list(dots[c2].nodes()))) * 100\n",
    "            \n",
    "            print(f\"Overlap: {len(overlap)} -- perc1: {perc1}, perc2: {perc2}\")\n",
    "            print(f\"Stability1: {stability[c1]}, Stability2: {stability[c2]}\")\n",
    "            print(f\"{c1}: {coverage[c1]} and {c2}: {coverage[c2]}\")\n",
    "            drawDiffernce2(dots[c1], dots[c2])\n",
    "            print()"
   ]
  },
  {
   "cell_type": "code",
   "execution_count": null,
   "id": "6f8f0490",
   "metadata": {},
   "outputs": [],
   "source": [
    "# @@ Cell 291\n",
    "# Check benchmarks with similar coverage\n",
    "for c1 in coverage.keys():\n",
    "    for c2 in coverage.keys():\n",
    "        if c1.split(\"_\")[0] == c2.split(\"_\")[0]:\n",
    "            continue\n",
    "        if np.isclose(coverage[c1], coverage[c2], atol=0.5):\n",
    "            overlap = np.intersect1d(list(dots[c1].nodes()), list(dots[c2].nodes()))\n",
    "            \n",
    "            perc1 = (len(overlap)/len(list(dots[c1].nodes()))) * 100\n",
    "            perc2 = (len(overlap)/len(list(dots[c2].nodes()))) * 100\n",
    "            \n",
    "            print(f\"Overlap: {len(overlap)} -- perc1: {perc1}, perc2: {perc2}\")\n",
    "            print(f\"Stability1: {stability[c1.split(\"_\"[0])]}, Stability2: {stability[c2.split(\"_\"[0])]}\")\n",
    "            print(f\"{c1}: {coverage[c1]} and {c2}: {coverage[c2]}\")\n",
    "            drawDiffernce2(dots[c1], dots[c2])\n",
    "            print()"
   ]
  },
  {
   "cell_type": "code",
   "execution_count": null,
   "id": "1a0f8b1e",
   "metadata": {},
   "outputs": [],
   "source": [
    "# @@ Cell 292\n",
    "# Check benchmarks with similar coverage\n",
    "for c1 in coverage.keys():\n",
    "    for c2 in coverage.keys():\n",
    "        if c1.split(\"_\")[0] == c2.split(\"_\")[0]:\n",
    "            continue\n",
    "        if np.isclose(coverage[c1], coverage[c2], atol=0.5):\n",
    "            overlap = np.intersect1d(list(dots[c1].nodes()), list(dots[c2].nodes()))\n",
    "            \n",
    "            perc1 = (len(overlap)/len(list(dots[c1].nodes()))) * 100\n",
    "            perc2 = (len(overlap)/len(list(dots[c2].nodes()))) * 100\n",
    "            \n",
    "            print(f\"Overlap: {len(overlap)} -- perc1: {perc1}, perc2: {perc2}\")\n",
    "            print(f\"Stability1: {stability[c1.split(\"_\")[0]]}, Stability2: {stability[c2.split(\"_\")[0]]}\")\n",
    "            print(f\"{c1}: {coverage[c1]} and {c2}: {coverage[c2]}\")\n",
    "            drawDiffernce2(dots[c1], dots[c2])\n",
    "            print()"
   ]
  },
  {
   "cell_type": "code",
   "execution_count": null,
   "id": "3564cff1",
   "metadata": {},
   "outputs": [],
   "source": [
    "# @@ Cell 293\n",
    "# Check benchmarks with similar coverage\n",
    "for c1 in coverage.keys():\n",
    "    for c2 in coverage.keys():\n",
    "        if c1.split(\"_\")[0] == c2.split(\"_\")[0]:\n",
    "            continue\n",
    "        if np.isclose(coverage[c1], coverage[c2], atol=0.5):\n",
    "            overlap = np.intersect1d(list(dots[c1].nodes()), list(dots[c2].nodes()))\n",
    "            \n",
    "            perc1 = (len(overlap)/len(list(dots[c1].nodes()))) * 100\n",
    "            perc2 = (len(overlap)/len(list(dots[c2].nodes()))) * 100\n",
    "            \n",
    "            print(f\"Overlap: {len(overlap)} -- perc1: {perc1}, perc2: {perc2}\")\n",
    "            print(f\"Stability1: {stability[c1.split('_')[0]]}, Stability2: {stability[c2.split('_')[0]]}\")\n",
    "            print(f\"{c1}: {coverage[c1]} and {c2}: {coverage[c2]}\")\n",
    "            drawDiffernce2(dots[c1], dots[c2])\n",
    "            print()"
   ]
  },
  {
   "cell_type": "code",
   "execution_count": null,
   "id": "eccb7b5f",
   "metadata": {
    "lines_to_next_cell": 1
   },
   "outputs": [],
   "source": [
    "# @@ Cell 294\n",
    "# Check benchmarks with similar coverage\n",
    "for c1 in coverage.keys():\n",
    "    for c2 in coverage.keys():\n",
    "        if c1.split(\"_\")[0] == c2.split(\"_\")[0]:\n",
    "            continue\n",
    "        if np.isclose(coverage[c1], coverage[c2], atol=0.5):\n",
    "            overlap = np.intersect1d(list(dots[c1].nodes()), list(dots[c2].nodes()))\n",
    "            \n",
    "            perc1 = (len(overlap)/len(list(dots[c1].nodes()))) * 100\n",
    "            perc2 = (len(overlap)/len(list(dots[c2].nodes()))) * 100\n",
    "            \n",
    "            print(f\"Overlap: {len(overlap)} -- perc1: {perc1}, perc2: {perc2}\")\n",
    "            print(f\"Stability1: {stability[c1.split('_')[0]]}, Stability2: {stability[c2.split('_')[0]]}\")\n",
    "            print(f\"{c1}: {coverage[c1]} and {c2}: {coverage[c2]}\")\n",
    "            drawDiffernce(dots[c1], dots[c2])\n",
    "            print()"
   ]
  },
  {
   "cell_type": "code",
   "execution_count": null,
   "id": "02421692",
   "metadata": {
    "lines_to_next_cell": 1
   },
   "outputs": [],
   "source": [
    "# @@ Cell 295\n",
    "def drawDiffernce2(g1, g2):\n",
    "    plt.figure(figsize=(20, 10), dpi=80)\n",
    "    pos = graphviz_layout(nx.compose(g1, g2), prog='dot')\n",
    "    nx.draw(g1, pos, with_labels=False, arrows=True, node_color='red')\n",
    "    \n",
    "    for k,v in pos.items():\n",
    "        # Shift the x values of every node by 10 to the right\n",
    "        v[0] = v[0] +10\n",
    "    \n",
    "    nx.draw(g2, pos, with_labels=False, arrows=True, node_color='blue')\n",
    "    plt.show()"
   ]
  },
  {
   "cell_type": "code",
   "execution_count": null,
   "id": "babe8e16",
   "metadata": {
    "lines_to_next_cell": 1
   },
   "outputs": [],
   "source": [
    "# @@ Cell 296\n",
    "def drawDiffernce2(g1, g2):\n",
    "    plt.figure(figsize=(20, 10), dpi=80)\n",
    "    pos = graphviz_layout(nx.compose(g1, g2), prog='dot')\n",
    "    nx.draw(g1, pos, with_labels=False, arrows=True, node_color='red')\n",
    "    nx.draw(g2, pos, with_labels=False, arrows=True, node_color='blue')\n",
    "    plt.show()"
   ]
  },
  {
   "cell_type": "code",
   "execution_count": null,
   "id": "13320f04",
   "metadata": {
    "lines_to_next_cell": 1
   },
   "outputs": [],
   "source": [
    "# @@ Cell 297\n",
    "def drawDiffernce3(g1, g2):\n",
    "    plt.figure(figsize=(20, 10), dpi=80)\n",
    "    pos = graphviz_layout(nx.compose(g1, g2), prog='dot')\n",
    "    nx.draw(g1, pos, with_labels=False, arrows=True, node_color='red')\n",
    "    \n",
    "    for k,v in pos.items():\n",
    "        # Shift the x values of every node by 10 to the right\n",
    "        v[0] = v[0] +10\n",
    "    \n",
    "    nx.draw(g2, pos, with_labels=False, arrows=True, node_color='blue')\n",
    "    plt.show()"
   ]
  },
  {
   "cell_type": "code",
   "execution_count": null,
   "id": "4b199c83",
   "metadata": {},
   "outputs": [],
   "source": [
    "# @@ Cell 298\n",
    "# Check benchmarks with similar coverage\n",
    "for c1 in coverage.keys():\n",
    "    for c2 in coverage.keys():\n",
    "        if c1.split(\"_\")[0] == c2.split(\"_\")[0]:\n",
    "            continue\n",
    "        if np.isclose(coverage[c1], coverage[c2], atol=0.5):\n",
    "            overlap = np.intersect1d(list(dots[c1].nodes()), list(dots[c2].nodes()))\n",
    "            \n",
    "            perc1 = (len(overlap)/len(list(dots[c1].nodes()))) * 100\n",
    "            perc2 = (len(overlap)/len(list(dots[c2].nodes()))) * 100\n",
    "            \n",
    "            print(f\"Overlap: {len(overlap)} -- perc1: {perc1}, perc2: {perc2}\")\n",
    "            print(f\"Stability1: {stability[c1.split('_')[0]]}, Stability2: {stability[c2.split('_')[0]]}\")\n",
    "            print(f\"{c1}: {coverage[c1]} and {c2}: {coverage[c2]}\")\n",
    "            drawDiffernce3(dots[c1], dots[c2])\n",
    "            print()"
   ]
  },
  {
   "cell_type": "code",
   "execution_count": null,
   "id": "c6db7da9",
   "metadata": {
    "lines_to_next_cell": 1
   },
   "outputs": [],
   "source": [
    "# @@ Cell 299\n",
    "pos"
   ]
  },
  {
   "cell_type": "code",
   "execution_count": null,
   "id": "ede2ac66",
   "metadata": {
    "lines_to_next_cell": 1
   },
   "outputs": [],
   "source": [
    "# @@ Cell 300\n",
    "def drawDiffernce3(g1, g2):\n",
    "    plt.figure(figsize=(20, 10), dpi=80)\n",
    "    pos = graphviz_layout(nx.compose(g1, g2), prog='dot')\n",
    "    nx.draw(g1, pos, with_labels=False, arrows=True, node_color='red')\n",
    "    \n",
    "    for k,v in pos.items():\n",
    "        pos[k] = (v[0] +10, v[1])\n",
    "    \n",
    "    nx.draw(g2, pos, with_labels=False, arrows=True, node_color='blue')\n",
    "    plt.show()"
   ]
  },
  {
   "cell_type": "code",
   "execution_count": null,
   "id": "c82543f9",
   "metadata": {},
   "outputs": [],
   "source": [
    "# @@ Cell 301\n",
    "# Check benchmarks with similar coverage\n",
    "for c1 in coverage.keys():\n",
    "    for c2 in coverage.keys():\n",
    "        if c1.split(\"_\")[0] == c2.split(\"_\")[0]:\n",
    "            continue\n",
    "        if np.isclose(coverage[c1], coverage[c2], atol=0.5):\n",
    "            overlap = np.intersect1d(list(dots[c1].nodes()), list(dots[c2].nodes()))\n",
    "            \n",
    "            perc1 = (len(overlap)/len(list(dots[c1].nodes()))) * 100\n",
    "            perc2 = (len(overlap)/len(list(dots[c2].nodes()))) * 100\n",
    "            \n",
    "            print(f\"Overlap: {len(overlap)} -- perc1: {perc1}, perc2: {perc2}\")\n",
    "            print(f\"Stability1: {stability[c1.split('_')[0]]}, Stability2: {stability[c2.split('_')[0]]}\")\n",
    "            print(f\"{c1}: {coverage[c1]} and {c2}: {coverage[c2]}\")\n",
    "            drawDiffernce3(dots[c1], dots[c2])\n",
    "            print()"
   ]
  },
  {
   "cell_type": "code",
   "execution_count": null,
   "id": "50d2bb66",
   "metadata": {},
   "outputs": [],
   "source": [
    "# @@ Cell 302\n",
    "# y = [x for x in range(len(std))]\n",
    "# plt.plot(std)\n",
    "plt.plot(spread)"
   ]
  },
  {
   "cell_type": "code",
   "execution_count": null,
   "id": "7baa119c",
   "metadata": {},
   "outputs": [],
   "source": [
    "# @@ Cell 303\n",
    "std = []\n",
    "spread = []\n",
    "for bench in results.keys():\n",
    "    x = []\n",
    "    for entry in results[bench]:\n",
    "        x.append(entry[2])\n",
    "    std.append(np.std(x)/np.mean(x))\n",
    "    spread.append(max_spread(x))\n",
    "    print(x)"
   ]
  },
  {
   "cell_type": "code",
   "execution_count": null,
   "id": "31b49b08",
   "metadata": {},
   "outputs": [],
   "source": [
    "# @@ Cell 304\n",
    "# y = [x for x in range(len(std))]\n",
    "plt.plot(std)\n",
    "plt.plot(spread)"
   ]
  },
  {
   "cell_type": "code",
   "execution_count": null,
   "id": "f117f07d",
   "metadata": {},
   "outputs": [],
   "source": [
    "# @@ Cell 305\n",
    "# y = [x for x in range(len(std))]\n",
    "plt.plot(std, label=\"Coefficient of Variation\")\n",
    "plt.plot(spread, label=\"mean spread\")"
   ]
  },
  {
   "cell_type": "code",
   "execution_count": null,
   "id": "1f82b90c",
   "metadata": {
    "lines_to_next_cell": 2
   },
   "outputs": [],
   "source": [
    "plt.legend()"
   ]
  }
 ],
 "metadata": {
  "jupytext": {
   "cell_metadata_filter": "-all",
   "main_language": "python",
   "notebook_metadata_filter": "-all"
  },
  "kernelspec": {
   "display_name": "Python 3 (ipykernel)",
   "language": "python",
   "name": "python3"
  },
  "language_info": {
   "codemirror_mode": {
    "name": "ipython",
    "version": 3
   },
   "file_extension": ".py",
   "mimetype": "text/x-python",
   "name": "python",
   "nbconvert_exporter": "python",
   "pygments_lexer": "ipython3",
   "version": "3.9.16"
  }
 },
 "nbformat": 4,
 "nbformat_minor": 5
}
